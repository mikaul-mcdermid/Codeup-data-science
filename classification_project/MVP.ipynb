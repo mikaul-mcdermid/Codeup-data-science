{
 "cells": [
  {
   "cell_type": "markdown",
   "id": "2ef0fa47-65c2-4f54-9ac6-572d6bfb502b",
   "metadata": {
    "tags": []
   },
   "source": [
    "## Prepare"
   ]
  },
  {
   "cell_type": "code",
   "execution_count": 1,
   "id": "62757ae7-5d24-4134-bd92-150efcf0ede2",
   "metadata": {},
   "outputs": [],
   "source": [
    "# All the imports\n",
    "import acquire as a\n",
    "import prepare as p\n",
    "import numpy as np\n",
    "import pandas as pd\n",
    "# ML stuff:\n",
    "from sklearn.metrics import accuracy_score, classification_report\n",
    "from sklearn.tree import DecisionTreeClassifier, \\\n",
    "export_text, plot_tree\n",
    "from sklearn.ensemble import RandomForestClassifier\n",
    "from sklearn.linear_model import LogisticRegression\n",
    "from sklearn.neighbors import KNeighborsClassifier\n",
    "#plotting imports\n",
    "import matplotlib.pyplot as plt\n",
    "import seaborn as sns\n",
    "from scipy import stats\n",
    "import warnings\n",
    "warnings.filterwarnings(\"ignore\")"
   ]
  },
  {
   "cell_type": "markdown",
   "id": "e43961ea-15f4-4042-a4e7-6357bc0d11bb",
   "metadata": {},
   "source": [
    "Questions:\n",
    "1.) Does paperless billing affect churn\n",
    "2.) does streaming tv affect churn\n",
    "3.) does streaming movies affect churn\n",
    "4.) does tech support affect churn"
   ]
  },
  {
   "cell_type": "code",
   "execution_count": 2,
   "id": "6b445033-ef08-44ee-9d14-8d841a6abc0a",
   "metadata": {
    "tags": []
   },
   "outputs": [
    {
     "name": "stdout",
     "output_type": "stream",
     "text": [
      "this file exists, reading from csv\n"
     ]
    }
   ],
   "source": [
    "#obtaining data\n",
    "telco = a.get_telco_data()"
   ]
  },
  {
   "cell_type": "code",
   "execution_count": 3,
   "id": "024e4bf7-caae-430b-a255-2d75bc8f3c49",
   "metadata": {
    "tags": []
   },
   "outputs": [
    {
     "data": {
      "text/html": [
       "<div>\n",
       "<style scoped>\n",
       "    .dataframe tbody tr th:only-of-type {\n",
       "        vertical-align: middle;\n",
       "    }\n",
       "\n",
       "    .dataframe tbody tr th {\n",
       "        vertical-align: top;\n",
       "    }\n",
       "\n",
       "    .dataframe thead th {\n",
       "        text-align: right;\n",
       "    }\n",
       "</style>\n",
       "<table border=\"1\" class=\"dataframe\">\n",
       "  <thead>\n",
       "    <tr style=\"text-align: right;\">\n",
       "      <th></th>\n",
       "      <th>0</th>\n",
       "      <th>1</th>\n",
       "      <th>2</th>\n",
       "    </tr>\n",
       "  </thead>\n",
       "  <tbody>\n",
       "    <tr>\n",
       "      <th>customer_id</th>\n",
       "      <td>0002-ORFBO</td>\n",
       "      <td>0003-MKNFE</td>\n",
       "      <td>0004-TLHLJ</td>\n",
       "    </tr>\n",
       "    <tr>\n",
       "      <th>gender</th>\n",
       "      <td>Female</td>\n",
       "      <td>Male</td>\n",
       "      <td>Male</td>\n",
       "    </tr>\n",
       "    <tr>\n",
       "      <th>senior_citizen</th>\n",
       "      <td>0</td>\n",
       "      <td>0</td>\n",
       "      <td>0</td>\n",
       "    </tr>\n",
       "    <tr>\n",
       "      <th>partner</th>\n",
       "      <td>Yes</td>\n",
       "      <td>No</td>\n",
       "      <td>No</td>\n",
       "    </tr>\n",
       "    <tr>\n",
       "      <th>dependents</th>\n",
       "      <td>Yes</td>\n",
       "      <td>No</td>\n",
       "      <td>No</td>\n",
       "    </tr>\n",
       "    <tr>\n",
       "      <th>tenure</th>\n",
       "      <td>9</td>\n",
       "      <td>9</td>\n",
       "      <td>4</td>\n",
       "    </tr>\n",
       "    <tr>\n",
       "      <th>phone_service</th>\n",
       "      <td>Yes</td>\n",
       "      <td>Yes</td>\n",
       "      <td>Yes</td>\n",
       "    </tr>\n",
       "    <tr>\n",
       "      <th>multiple_lines</th>\n",
       "      <td>No</td>\n",
       "      <td>Yes</td>\n",
       "      <td>No</td>\n",
       "    </tr>\n",
       "    <tr>\n",
       "      <th>online_security</th>\n",
       "      <td>No</td>\n",
       "      <td>No</td>\n",
       "      <td>No</td>\n",
       "    </tr>\n",
       "    <tr>\n",
       "      <th>online_backup</th>\n",
       "      <td>Yes</td>\n",
       "      <td>No</td>\n",
       "      <td>No</td>\n",
       "    </tr>\n",
       "    <tr>\n",
       "      <th>device_protection</th>\n",
       "      <td>No</td>\n",
       "      <td>No</td>\n",
       "      <td>Yes</td>\n",
       "    </tr>\n",
       "    <tr>\n",
       "      <th>tech_support</th>\n",
       "      <td>Yes</td>\n",
       "      <td>No</td>\n",
       "      <td>No</td>\n",
       "    </tr>\n",
       "    <tr>\n",
       "      <th>streaming_tv</th>\n",
       "      <td>Yes</td>\n",
       "      <td>No</td>\n",
       "      <td>No</td>\n",
       "    </tr>\n",
       "    <tr>\n",
       "      <th>streaming_movies</th>\n",
       "      <td>No</td>\n",
       "      <td>Yes</td>\n",
       "      <td>No</td>\n",
       "    </tr>\n",
       "    <tr>\n",
       "      <th>paperless_billing</th>\n",
       "      <td>Yes</td>\n",
       "      <td>No</td>\n",
       "      <td>Yes</td>\n",
       "    </tr>\n",
       "    <tr>\n",
       "      <th>monthly_charges</th>\n",
       "      <td>65.6</td>\n",
       "      <td>59.9</td>\n",
       "      <td>73.9</td>\n",
       "    </tr>\n",
       "    <tr>\n",
       "      <th>total_charges</th>\n",
       "      <td>593.3</td>\n",
       "      <td>542.4</td>\n",
       "      <td>280.85</td>\n",
       "    </tr>\n",
       "    <tr>\n",
       "      <th>churn</th>\n",
       "      <td>No</td>\n",
       "      <td>No</td>\n",
       "      <td>Yes</td>\n",
       "    </tr>\n",
       "    <tr>\n",
       "      <th>contract_type</th>\n",
       "      <td>One year</td>\n",
       "      <td>Month-to-month</td>\n",
       "      <td>Month-to-month</td>\n",
       "    </tr>\n",
       "    <tr>\n",
       "      <th>internet_service_type</th>\n",
       "      <td>DSL</td>\n",
       "      <td>DSL</td>\n",
       "      <td>Fiber optic</td>\n",
       "    </tr>\n",
       "    <tr>\n",
       "      <th>payment_type</th>\n",
       "      <td>Mailed check</td>\n",
       "      <td>Mailed check</td>\n",
       "      <td>Electronic check</td>\n",
       "    </tr>\n",
       "  </tbody>\n",
       "</table>\n",
       "</div>"
      ],
      "text/plain": [
       "                                  0               1                 2\n",
       "customer_id              0002-ORFBO      0003-MKNFE        0004-TLHLJ\n",
       "gender                       Female            Male              Male\n",
       "senior_citizen                    0               0                 0\n",
       "partner                         Yes              No                No\n",
       "dependents                      Yes              No                No\n",
       "tenure                            9               9                 4\n",
       "phone_service                   Yes             Yes               Yes\n",
       "multiple_lines                   No             Yes                No\n",
       "online_security                  No              No                No\n",
       "online_backup                   Yes              No                No\n",
       "device_protection                No              No               Yes\n",
       "tech_support                    Yes              No                No\n",
       "streaming_tv                    Yes              No                No\n",
       "streaming_movies                 No             Yes                No\n",
       "paperless_billing               Yes              No               Yes\n",
       "monthly_charges                65.6            59.9              73.9\n",
       "total_charges                 593.3           542.4            280.85\n",
       "churn                            No              No               Yes\n",
       "contract_type              One year  Month-to-month    Month-to-month\n",
       "internet_service_type           DSL             DSL       Fiber optic\n",
       "payment_type           Mailed check    Mailed check  Electronic check"
      ]
     },
     "execution_count": 3,
     "metadata": {},
     "output_type": "execute_result"
    }
   ],
   "source": [
    "#prepping the data\n",
    "telco = p.prep_telco(telco)\n",
    "telco.head(3).T"
   ]
  },
  {
   "cell_type": "code",
   "execution_count": 4,
   "id": "50f93178-29eb-4ced-9df5-a121bbc66051",
   "metadata": {
    "tags": []
   },
   "outputs": [
    {
     "data": {
      "text/plain": [
       "0       False\n",
       "1       False\n",
       "2       False\n",
       "3       False\n",
       "4       False\n",
       "        ...  \n",
       "7038    False\n",
       "7039    False\n",
       "7040    False\n",
       "7041    False\n",
       "7042    False\n",
       "Name: monthly_charges, Length: 7043, dtype: bool"
      ]
     },
     "execution_count": 4,
     "metadata": {},
     "output_type": "execute_result"
    }
   ],
   "source": [
    "#adjusting for monthly_charges having invalid data types\n",
    "telco.monthly_charges.isna()"
   ]
  },
  {
   "cell_type": "code",
   "execution_count": 5,
   "id": "4b4bef66-94ff-428c-90db-54d3adc194a0",
   "metadata": {
    "tags": []
   },
   "outputs": [
    {
     "name": "stdout",
     "output_type": "stream",
     "text": [
      "<class 'pandas.core.frame.DataFrame'>\n",
      "Index: 7043 entries, 0 to 7042\n",
      "Data columns (total 21 columns):\n",
      " #   Column                 Non-Null Count  Dtype  \n",
      "---  ------                 --------------  -----  \n",
      " 0   customer_id            7043 non-null   object \n",
      " 1   gender                 7043 non-null   object \n",
      " 2   senior_citizen         7043 non-null   int64  \n",
      " 3   partner                7043 non-null   object \n",
      " 4   dependents             7043 non-null   object \n",
      " 5   tenure                 7043 non-null   int64  \n",
      " 6   phone_service          7043 non-null   object \n",
      " 7   multiple_lines         7043 non-null   object \n",
      " 8   online_security        7043 non-null   object \n",
      " 9   online_backup          7043 non-null   object \n",
      " 10  device_protection      7043 non-null   object \n",
      " 11  tech_support           7043 non-null   object \n",
      " 12  streaming_tv           7043 non-null   object \n",
      " 13  streaming_movies       7043 non-null   object \n",
      " 14  paperless_billing      7043 non-null   object \n",
      " 15  monthly_charges        7043 non-null   float64\n",
      " 16  total_charges          7043 non-null   object \n",
      " 17  churn                  7043 non-null   object \n",
      " 18  contract_type          7043 non-null   object \n",
      " 19  internet_service_type  5517 non-null   object \n",
      " 20  payment_type           7043 non-null   object \n",
      "dtypes: float64(1), int64(2), object(18)\n",
      "memory usage: 1.2+ MB\n"
     ]
    }
   ],
   "source": [
    "#checking to see what columns need to be changed\n",
    "telco.info()"
   ]
  },
  {
   "cell_type": "code",
   "execution_count": 6,
   "id": "eadc084a-a5d8-4a63-a80d-33f65fdc32e2",
   "metadata": {
    "tags": []
   },
   "outputs": [],
   "source": [
    "#fixing the internet service type column\n",
    "telco['internet_service_type'] = telco['internet_service_type'].fillna('None')"
   ]
  },
  {
   "cell_type": "code",
   "execution_count": 7,
   "id": "5398fe09-52e6-4d6e-be45-916ffafba720",
   "metadata": {
    "tags": []
   },
   "outputs": [],
   "source": [
    "#splitting data into train/val/test\n",
    "telco_train, telco_val, telco_test = p.splitting_data(telco, 'churn')"
   ]
  },
  {
   "cell_type": "code",
   "execution_count": 8,
   "id": "a50b5df2-e28b-44d2-b638-c58d7d760eed",
   "metadata": {
    "tags": []
   },
   "outputs": [],
   "source": [
    "#encoding split data so that we can use encoded columns with binary outputs\n",
    "train_encode, val_encode, test_encode = p.preprocess_telco(telco_train,telco_val,telco_test)"
   ]
  },
  {
   "cell_type": "code",
   "execution_count": 9,
   "id": "61153eff-7dcb-480e-a87a-5cbb69b180ed",
   "metadata": {
    "tags": []
   },
   "outputs": [],
   "source": [
    "#fixing the customer id column for modeling later\n",
    "train_encode = train_encode.set_index(['customer_id'])\n",
    "val_encode = val_encode.set_index(['customer_id'])\n",
    "test_encode = test_encode.set_index(['customer_id'])"
   ]
  },
  {
   "cell_type": "code",
   "execution_count": 10,
   "id": "ed13d971-a03a-45ce-bf12-664afb1e5e2f",
   "metadata": {
    "tags": []
   },
   "outputs": [],
   "source": [
    "#X and y values for train\n",
    "X_train, y_train = train_encode.drop(columns='churn_Yes'), \\\n",
    "train_encode.churn_Yes\n"
   ]
  },
  {
   "cell_type": "code",
   "execution_count": 11,
   "id": "f1fc5b3e-ec75-4538-81ea-db9e84d54ab2",
   "metadata": {
    "tags": []
   },
   "outputs": [],
   "source": [
    "#X and y values for validate\n",
    "X_val, y_val = val_encode.drop(columns='churn_Yes'), \\\n",
    "val_encode.churn_Yes"
   ]
  },
  {
   "cell_type": "code",
   "execution_count": 12,
   "id": "539acfc7-7fb1-450d-b283-f190ce09d9c1",
   "metadata": {
    "tags": []
   },
   "outputs": [],
   "source": [
    "#X and y values for test\n",
    "X_test, y_test = test_encode.drop(columns='churn_Yes'), \\\n",
    "test_encode.churn_Yes"
   ]
  },
  {
   "cell_type": "code",
   "execution_count": 13,
   "id": "1a306477-68c3-47f7-9109-544e836ab3b1",
   "metadata": {
    "tags": []
   },
   "outputs": [],
   "source": [
    "# replaces values in the total charges column with a blank space to 0.0\n",
    "telco.total_charges = telco.total_charges.str.replace(' ','0.0')"
   ]
  },
  {
   "cell_type": "code",
   "execution_count": 14,
   "id": "da174801-55c6-40b3-b33b-c78aa8dde3a2",
   "metadata": {
    "tags": []
   },
   "outputs": [],
   "source": [
    "# changes total_charges to a float instead of an object\n",
    "telco['total_charges'] = (telco.total_charges + '0').astype(float)"
   ]
  },
  {
   "cell_type": "code",
   "execution_count": 15,
   "id": "f50ed6c1-59c8-4a07-9c5b-712a3d16e5ac",
   "metadata": {
    "tags": []
   },
   "outputs": [],
   "source": [
    "#sets index to customer_id so I don't have to drop it\n",
    "telco = telco.set_index(['customer_id'])"
   ]
  },
  {
   "cell_type": "markdown",
   "id": "fba8da19-8a57-4f4f-9e94-c836d81668bd",
   "metadata": {
    "tags": []
   },
   "source": [
    "## EXPLORE"
   ]
  },
  {
   "cell_type": "code",
   "execution_count": 16,
   "id": "b72550aa-b0dc-447b-8e55-bceb4552aca0",
   "metadata": {
    "tags": []
   },
   "outputs": [
    {
     "name": "stdout",
     "output_type": "stream",
     "text": [
      "The baseline of churn is 0.7346301292063041\n"
     ]
    }
   ],
   "source": [
    "#Understanding baseline\n",
    "baseline_percentage = (telco.churn == \"No\").mean()\n",
    "print(f'The baseline of churn is {baseline_percentage}')"
   ]
  },
  {
   "cell_type": "code",
   "execution_count": 17,
   "id": "0d611392-1d86-4c78-b192-a50c372895d7",
   "metadata": {
    "tags": []
   },
   "outputs": [],
   "source": [
    "#setting the alpha\n",
    "α = 0.05"
   ]
  },
  {
   "cell_type": "code",
   "execution_count": 18,
   "id": "62ba516a-1fcd-4d4e-92bc-e7c8fdd7f5b3",
   "metadata": {
    "tags": []
   },
   "outputs": [
    {
     "data": {
      "image/png": "[encoded data removed]",
      "text/plain": [
       "<Figure size 640x480 with 1 Axes>"
      ]
     },
     "metadata": {},
     "output_type": "display_data"
    }
   ],
   "source": [
    "#building plots for my selected features\n",
    "sns.countplot(data=train_encode, x='gender_Male', hue='churn_Yes')\n",
    "plt.title(\"Does gender influence churn?\")\n",
    "plt.show()"
   ]
  },
  {
   "cell_type": "code",
   "execution_count": 76,
   "id": "f34d551c-e362-44b3-9962-75be7ad68240",
   "metadata": {
    "tags": []
   },
   "outputs": [
    {
     "data": {
      "image/png": "[encoded data removed]",
      "text/plain": [
       "<Figure size 640x480 with 1 Axes>"
      ]
     },
     "metadata": {},
     "output_type": "display_data"
    }
   ],
   "source": [
    "sns.kdeplot(data=train_encode, x='partner_Yes', hue='churn_Yes', fill=True, alpha=.6)\n",
    "plt.title(\"Marriage affecting Churn?\")\n",
    "plt.axhline(population_churn, label=\"Population Churn Rate\")\n",
    "plt.show()"
   ]
  },
  {
   "cell_type": "code",
   "execution_count": 78,
   "id": "cb44d57a-eb3a-4cf9-8ecd-1a21edfe962f",
   "metadata": {
    "tags": []
   },
   "outputs": [
    {
     "data": {
      "image/png": "[encoded data removed]",
      "text/plain": [
       "<Figure size 640x480 with 1 Axes>"
      ]
     },
     "metadata": {},
     "output_type": "display_data"
    }
   ],
   "source": [
    "#sns.barplot(data=train_encode, x='dependents_Yes', y='churn_Yes')\n",
    "sns.kdeplot(data=train_encode, x='dependents_Yes', hue='churn_Yes', fill=True, alpha=.6)\n",
    "#plt.title(\"Marriage affecting Churn?\")\n",
    "#plt.show()\n",
    "plt.title(\"Does Having Childre Affect Churn?\")\n",
    "plt.axhline(population_churn, label=\"Population Churn Rate\")\n",
    "plt.show()"
   ]
  },
  {
   "cell_type": "code",
   "execution_count": 21,
   "id": "fd5b2ae9-2f78-49c2-b217-5fb8d38ee3a0",
   "metadata": {
    "tags": []
   },
   "outputs": [
    {
     "name": "stdout",
     "output_type": "stream",
     "text": [
      "churn\n",
      "No     1784\n",
      "Yes     326\n",
      "Name: count, dtype: int64 churn\n",
      "No     3390\n",
      "Yes    1543\n",
      "Name: count, dtype: int64\n"
     ]
    }
   ],
   "source": [
    "# Filtering the dataset for customers with dependents and calculating churn rate\n",
    "dependents_churn = telco[telco['dependents'] == 'Yes']['churn'].value_counts()\n",
    "dependents_churn_no = telco[telco['dependents'] == 'No']['churn'].value_counts()\n",
    "\n",
    "print(dependents_churn, dependents_churn_no)\n"
   ]
  },
  {
   "cell_type": "code",
   "execution_count": 22,
   "id": "7bdac69f-ba50-408d-ab8a-fbbac88e8b55",
   "metadata": {
    "tags": []
   },
   "outputs": [
    {
     "data": {
      "text/plain": [
       "0.15450236966824646"
      ]
     },
     "execution_count": 22,
     "metadata": {},
     "output_type": "execute_result"
    }
   ],
   "source": [
    "326/2110"
   ]
  },
  {
   "cell_type": "code",
   "execution_count": 23,
   "id": "be985d0e-82ad-48ee-a588-a6795ed05c86",
   "metadata": {
    "tags": []
   },
   "outputs": [
    {
     "data": {
      "image/png": "[encoded data removed]",
      "text/plain": [
       "<Figure size 600x600 with 1 Axes>"
      ]
     },
     "metadata": {},
     "output_type": "display_data"
    }
   ],
   "source": [
    "# Create a subset for 'dependents_Yes' and 'churn_Yes' columns\n",
    "dependents_churn = train_encode[['dependents_Yes', 'churn_Yes']]\n",
    "\n",
    "# Count the occurrences of each category\n",
    "count_dependents_churn = dependents_churn.apply(pd.Series.value_counts).T\n",
    "\n",
    "# Plotting a pie chart\n",
    "plt.figure(figsize=(6, 6))  # Adjust the figure size as needed\n",
    "plt.pie(count_dependents_churn[1], labels=count_dependents_churn.index, autopct='%1.1f%%')\n",
    "plt.title(\"Proportion of Churn among Customers with Dependents\")\n",
    "plt.show()"
   ]
  },
  {
   "cell_type": "code",
   "execution_count": 24,
   "id": "40ae247d-0af8-4f07-9936-743cc0c8741a",
   "metadata": {
    "tags": []
   },
   "outputs": [
    {
     "data": {
      "image/png": "[encoded data removed]",
      "text/plain": [
       "<Figure size 640x480 with 1 Axes>"
      ]
     },
     "metadata": {},
     "output_type": "display_data"
    }
   ],
   "source": [
    "sns.barplot(data=train_encode, x='paperless_billing_Yes', y='churn_Yes')\n",
    "plt.title(\"Paperless Billing Causes Churn?\")\n",
    "population_churn = train_encode.churn_Yes.mean()\n",
    "plt.axhline(population_churn, label=\"Population Churn Rate\")\n",
    "plt.xticks(ticks=[0, 1], labels=['No', 'Yes'])\n",
    "plt.legend()\n",
    "plt.show()\n"
   ]
  },
  {
   "cell_type": "code",
   "execution_count": 25,
   "id": "56a014fd-c73b-4559-9a1b-f145f22b4810",
   "metadata": {
    "tags": []
   },
   "outputs": [
    {
     "name": "stdout",
     "output_type": "stream",
     "text": [
      "Fail to reject the null\n",
      "Insufficient evidence to reject the null\n"
     ]
    },
    {
     "data": {
      "text/plain": [
       "0.34677390607565795"
      ]
     },
     "execution_count": 25,
     "metadata": {},
     "output_type": "execute_result"
    }
   ],
   "source": [
    "# Let's run a chi squared to compare proportions, to have more confidence\n",
    "null_hypothesis = \"there is NO relationship between gender and churn\"\n",
    "alternative_hypothesis = \"there is a relationship between gender and churn\"\n",
    "\n",
    "# Setup a crosstab of observed survival to pclass\n",
    "observed_gender = pd.crosstab(train_encode.churn_Yes, train_encode.gender_Male)\n",
    "\n",
    "chi2, p, degf, expected = stats.chi2_contingency(observed_gender)\n",
    "\n",
    "if p < α:\n",
    "    print(f\"Reject the null hypothesis that, {null_hypothesis}\")\n",
    "    print(f\"Sufficient evidence to move forward understanding that, {alternative_hypothesis}\")\n",
    "else:\n",
    "    print(\"Fail to reject the null\")\n",
    "    print(\"Insufficient evidence to reject the null\")\n",
    "p"
   ]
  },
  {
   "cell_type": "code",
   "execution_count": 26,
   "id": "53e1ef4c-7a0d-43cb-ae6a-284b206660e3",
   "metadata": {
    "tags": []
   },
   "outputs": [
    {
     "name": "stdout",
     "output_type": "stream",
     "text": [
      "Reject the null hypothesis that, there is NO relationship between having a parnter and churn\n",
      "Sufficient evidence to move forward understanding that, there is a relationship between having a parnter and churn\n"
     ]
    },
    {
     "data": {
      "text/plain": [
       "3.3117883244850396e-24"
      ]
     },
     "execution_count": 26,
     "metadata": {},
     "output_type": "execute_result"
    }
   ],
   "source": [
    "# Let's run a chi squared to compare proportions, to have more confidence\n",
    "α = 0.05\n",
    "null_hypothesis = \"there is NO relationship between having a parnter and churn\"\n",
    "alternative_hypothesis = \"there is a relationship between having a parnter and churn\"\n",
    "\n",
    "# Setup a crosstab of observed survival to pclass\n",
    "observed = pd.crosstab(train_encode.churn_Yes, train_encode.partner_Yes)\n",
    "\n",
    "chi2, p, degf, expected = stats.chi2_contingency(observed)\n",
    "\n",
    "if p < α:\n",
    "    print(f\"Reject the null hypothesis that, {null_hypothesis}\")\n",
    "    print(f\"Sufficient evidence to move forward understanding that, {alternative_hypothesis}\")\n",
    "else:\n",
    "    print(\"Fail to reject the null\")\n",
    "    print(\"Insufficient evidence to reject the null\")\n",
    "p"
   ]
  },
  {
   "cell_type": "code",
   "execution_count": 27,
   "id": "2a9bf364-cd6d-456b-bb8f-f0ae86a9f433",
   "metadata": {
    "tags": []
   },
   "outputs": [
    {
     "name": "stdout",
     "output_type": "stream",
     "text": [
      "Reject the null hypothesis that, there is NO relationship between having dependents and churn\n",
      "Sufficient evidence to move forward understanding that, there is a relationship between having dependents and churn\n"
     ]
    },
    {
     "data": {
      "text/plain": [
       "6.84215803296947e-26"
      ]
     },
     "execution_count": 27,
     "metadata": {},
     "output_type": "execute_result"
    }
   ],
   "source": [
    "# Let's run a chi squared to compare proportions, to have more confidence\n",
    "α = 0.05\n",
    "null_hypothesis = \"there is NO relationship between having dependents and churn\"\n",
    "alternative_hypothesis = \"there is a relationship between having dependents and churn\"\n",
    "\n",
    "# Setup a crosstab of observed survival to pclass\n",
    "observed = pd.crosstab(train_encode.churn_Yes, train_encode.dependents_Yes)\n",
    "\n",
    "chi2, p, degf, expected = stats.chi2_contingency(observed)\n",
    "\n",
    "if p < α:\n",
    "    print(f\"Reject the null hypothesis that, {null_hypothesis}\")\n",
    "    print(f\"Sufficient evidence to move forward understanding that, {alternative_hypothesis}\")\n",
    "else:\n",
    "    print(\"Fail to reject the null\")\n",
    "    print(\"Insufficient evidence to reject the null\")\n",
    "p"
   ]
  },
  {
   "cell_type": "code",
   "execution_count": 28,
   "id": "dcb275d6-ed09-416e-8eb7-f4a21b09469a",
   "metadata": {
    "tags": []
   },
   "outputs": [
    {
     "name": "stdout",
     "output_type": "stream",
     "text": [
      "Reject the null hypothesis that, there is NO relationship between paperless billing and churn\n",
      "Sufficient evidence to move forward understanding that, there is a relationship between paperless billing and churn\n"
     ]
    },
    {
     "data": {
      "text/plain": [
       "5.802667394637569e-38"
      ]
     },
     "execution_count": 28,
     "metadata": {},
     "output_type": "execute_result"
    }
   ],
   "source": [
    "# Let's run a chi squared to compare proportions, to have more confidence\n",
    "α = 0.05\n",
    "null_hypothesis = \"there is NO relationship between paperless billing and churn\"\n",
    "alternative_hypothesis = \"there is a relationship between paperless billing and churn\"\n",
    "\n",
    "# Setup a crosstab of observed survival to pclass\n",
    "observed = pd.crosstab(train_encode.churn_Yes, train_encode.paperless_billing_Yes)\n",
    "\n",
    "chi2, p, degf, expected = stats.chi2_contingency(observed)\n",
    "\n",
    "if p < α:\n",
    "    print(f\"Reject the null hypothesis that, {null_hypothesis}\")\n",
    "    print(f\"Sufficient evidence to move forward understanding that, {alternative_hypothesis}\")\n",
    "else:\n",
    "    print(\"Fail to reject the null\")\n",
    "    print(\"Insufficient evidence to reject the null\")\n",
    "p"
   ]
  },
  {
   "cell_type": "code",
   "execution_count": 85,
   "id": "58c5ab4e-604b-4d91-bf00-41846895c48b",
   "metadata": {
    "tags": []
   },
   "outputs": [
    {
     "name": "stdout",
     "output_type": "stream",
     "text": [
      "max depth of 1, the accuracy on train = 0.7347, on val = 0.7346\n",
      "max depth of 2, the accuracy on train = 0.7922, on val = 0.7906\n",
      "max depth of 3, the accuracy on train = 0.7922, on val = 0.7906\n",
      "max depth of 4, the accuracy on train = 0.7995, on val = 0.7892\n",
      "max depth of 5, the accuracy on train = 0.8128, on val = 0.7842\n",
      "max depth of 6, the accuracy on train = 0.8194, on val = 0.7835\n",
      "max depth of 7, the accuracy on train = 0.8286, on val = 0.7757\n",
      "max depth of 8, the accuracy on train = 0.84, on val = 0.77\n",
      "max depth of 9, the accuracy on train = 0.8604, on val = 0.7523\n",
      "max depth of 10, the accuracy on train = 0.8812, on val = 0.7473\n",
      "max depth of 11, the accuracy on train = 0.8996, on val = 0.7289\n",
      "max depth of 12, the accuracy on train = 0.9183, on val = 0.7282\n",
      "max depth of 13, the accuracy on train = 0.9359, on val = 0.7253\n",
      "max depth of 14, the accuracy on train = 0.9515, on val = 0.7097\n",
      "max depth of 15, the accuracy on train = 0.9645, on val = 0.7189\n",
      "max depth of 16, the accuracy on train = 0.9744, on val = 0.7062\n",
      "max depth of 17, the accuracy on train = 0.9827, on val = 0.709\n",
      "max depth of 18, the accuracy on train = 0.9884, on val = 0.704\n",
      "max depth of 19, the accuracy on train = 0.9915, on val = 0.7197\n",
      "max depth of 20, the accuracy on train = 0.9943, on val = 0.7055\n",
      "max depth of 21, the accuracy on train = 0.9967, on val = 0.6941\n",
      "max depth of 22, the accuracy on train = 0.9979, on val = 0.7111\n",
      "max depth of 23, the accuracy on train = 0.9991, on val = 0.704\n"
     ]
    }
   ],
   "source": [
    "# DECISION TREE\n",
    "# creates a for loop iterating 20 times with a different max depth each iteration.\n",
    "for x in range(1,24):\n",
    "    #create the decision tree object\n",
    "    tree = DecisionTreeClassifier(max_depth=x, random_state=24)\n",
    "    #fit the object only on TRAIN DATA!\n",
    "    tree.fit(X_train, y_train)\n",
    "    #calculate the accuracy for train and validate\n",
    "    acc_train_tree = tree.score(X_train, y_train)\n",
    "    acc_validate_tree = tree.score(X_val, y_val)\n",
    "    print(f'max depth of {x}, the accuracy on train = {round(acc_train_tree,4)}, on val = {round(acc_validate_tree,4)}')"
   ]
  },
  {
   "cell_type": "markdown",
   "id": "91aef47f-7d4a-4d21-b7ac-c53780d73a21",
   "metadata": {},
   "source": [
    "based on this, I would conclude that the best model out of these is a max depth of 2 or 3"
   ]
  },
  {
   "cell_type": "code",
   "execution_count": 55,
   "id": "bc3dba3d-0000-4e6e-85d8-489c4c5b092d",
   "metadata": {
    "tags": []
   },
   "outputs": [
    {
     "data": {
      "text/plain": [
       "array([1, 0, 1, 1, 1, 0, 0, 0, 0, 0])"
      ]
     },
     "execution_count": 55,
     "metadata": {},
     "output_type": "execute_result"
    }
   ],
   "source": [
    "y_pred = tree.predict(X_train)\n",
    "y_pred[:10]"
   ]
  },
  {
   "cell_type": "code",
   "execution_count": 56,
   "id": "7700df46-6b5f-41cc-8abe-1ea1f8b9ba00",
   "metadata": {
    "tags": []
   },
   "outputs": [
    {
     "data": {
      "text/plain": [
       "0.9990532544378699"
      ]
     },
     "execution_count": 56,
     "metadata": {},
     "output_type": "execute_result"
    }
   ],
   "source": [
    "tree.score(X_train, y_train)"
   ]
  },
  {
   "cell_type": "code",
   "execution_count": 57,
   "id": "bb78ece2-0431-49f3-8979-95d47b31a560",
   "metadata": {
    "tags": []
   },
   "outputs": [
    {
     "data": {
      "text/html": [
       "<div>\n",
       "<style scoped>\n",
       "    .dataframe tbody tr th:only-of-type {\n",
       "        vertical-align: middle;\n",
       "    }\n",
       "\n",
       "    .dataframe tbody tr th {\n",
       "        vertical-align: top;\n",
       "    }\n",
       "\n",
       "    .dataframe thead th {\n",
       "        text-align: right;\n",
       "    }\n",
       "</style>\n",
       "<table border=\"1\" class=\"dataframe\">\n",
       "  <thead>\n",
       "    <tr style=\"text-align: right;\">\n",
       "      <th>col_0</th>\n",
       "      <th>0</th>\n",
       "      <th>1</th>\n",
       "    </tr>\n",
       "    <tr>\n",
       "      <th>churn_Yes</th>\n",
       "      <th></th>\n",
       "      <th></th>\n",
       "    </tr>\n",
       "  </thead>\n",
       "  <tbody>\n",
       "    <tr>\n",
       "      <th>0</th>\n",
       "      <td>3104</td>\n",
       "      <td>0</td>\n",
       "    </tr>\n",
       "    <tr>\n",
       "      <th>1</th>\n",
       "      <td>4</td>\n",
       "      <td>1117</td>\n",
       "    </tr>\n",
       "  </tbody>\n",
       "</table>\n",
       "</div>"
      ],
      "text/plain": [
       "col_0         0     1\n",
       "churn_Yes            \n",
       "0          3104     0\n",
       "1             4  1117"
      ]
     },
     "execution_count": 57,
     "metadata": {},
     "output_type": "execute_result"
    }
   ],
   "source": [
    "pd.crosstab(y_train, y_pred)"
   ]
  },
  {
   "cell_type": "code",
   "execution_count": 60,
   "id": "693dabb7-ec18-4e89-b52f-4456b193c0a6",
   "metadata": {
    "tags": []
   },
   "outputs": [
    {
     "name": "stdout",
     "output_type": "stream",
     "text": [
      "max depth of 1, the accuracy train = 0.7347, val = 0.7346\n",
      "max depth of 2, the accuracy train = 0.7652, val = 0.7679\n",
      "max depth of 3, the accuracy train = 0.7893, val = 0.7821\n",
      "max depth of 4, the accuracy train = 0.7986, val = 0.7991\n",
      "max depth of 5, the accuracy train = 0.8019, val = 0.797\n",
      "max depth of 6, the accuracy train = 0.8121, val = 0.8041\n",
      "max depth of 7, the accuracy train = 0.8218, val = 0.802\n",
      "max depth of 8, the accuracy train = 0.8369, val = 0.8055\n",
      "max depth of 9, the accuracy train = 0.8568, val = 0.7942\n",
      "max depth of 10, the accuracy train = 0.8826, val = 0.8013\n",
      "max depth of 11, the accuracy train = 0.9122, val = 0.7956\n",
      "max depth of 12, the accuracy train = 0.9472, val = 0.7842\n",
      "max depth of 13, the accuracy train = 0.9733, val = 0.7871\n",
      "max depth of 14, the accuracy train = 0.9872, val = 0.7793\n",
      "max depth of 15, the accuracy train = 0.9927, val = 0.78\n",
      "max depth of 16, the accuracy train = 0.9957, val = 0.7764\n",
      "max depth of 17, the accuracy train = 0.9976, val = 0.78\n",
      "max depth of 18, the accuracy train = 0.9988, val = 0.7779\n",
      "max depth of 19, the accuracy train = 0.9991, val = 0.7786\n",
      "max depth of 20, the accuracy train = 0.9991, val = 0.7779\n",
      "max depth of 21, the accuracy train = 0.9991, val = 0.7736\n",
      "max depth of 22, the accuracy train = 0.9991, val = 0.7793\n",
      "max depth of 23, the accuracy train = 0.9991, val = 0.78\n",
      "max depth of 24, the accuracy train = 0.9991, val = 0.7786\n",
      "max depth of 25, the accuracy train = 0.9991, val = 0.7771\n",
      "max depth of 26, the accuracy train = 0.9991, val = 0.7779\n"
     ]
    }
   ],
   "source": [
    "for x in range(1, 27):\n",
    "    # Create the RandomForestClassifier object\n",
    "    forest = RandomForestClassifier(n_estimators=100, max_depth=x, random_state=24)\n",
    "    \n",
    "    # Fit the model on the training data\n",
    "    forest.fit(X_train, y_train)\n",
    "    \n",
    "    # Calculate the accuracy\n",
    "    acc_forest = forest.score(X_train, y_train)\n",
    "    acc_forest_val = forest.score(X_val, y_val)\n",
    "    print(f'max depth of {x}, the accuracy train = {round(acc_forest,4)}, val = {round(acc_forest_val,4)}')\n",
    "    # print(f'With a max depth of {x}, the accuracy is {round(acc_forest, 2)}')\n"
   ]
  },
  {
   "cell_type": "markdown",
   "id": "ee0f3db1-180c-40f3-bd41-cae3859e78d4",
   "metadata": {},
   "source": [
    "based on these samples, I would conclude that a max depth of 5"
   ]
  },
  {
   "cell_type": "code",
   "execution_count": 79,
   "id": "1b1960f8-fd41-420e-85ea-28222ac82aea",
   "metadata": {
    "tags": []
   },
   "outputs": [],
   "source": [
    "forest_best = RandomForestClassifier(n_estimators=100, max_depth=5, random_state=24)"
   ]
  },
  {
   "cell_type": "code",
   "execution_count": 61,
   "id": "a7c9c08d-8eab-42ef-bd90-4c69c583c01b",
   "metadata": {
    "tags": []
   },
   "outputs": [
    {
     "data": {
      "text/plain": [
       "0.7346745562130178"
      ]
     },
     "execution_count": 61,
     "metadata": {},
     "output_type": "execute_result"
    }
   ],
   "source": [
    "#make it\n",
    "lr = LogisticRegression()\n",
    "features = ['partner_Yes', 'dependents_Yes', 'paperless_billing_Yes', 'gender_Male']\n",
    "#fit it\n",
    "lr.fit(X_train[features], y_train)\n",
    "lr.score(X_train[features], y_train)"
   ]
  },
  {
   "cell_type": "code",
   "execution_count": 97,
   "id": "a82b8478-869a-48a3-a858-9dce54bae26b",
   "metadata": {
    "tags": []
   },
   "outputs": [
    {
     "data": {
      "text/html": [
       "<div>\n",
       "<style scoped>\n",
       "    .dataframe tbody tr th:only-of-type {\n",
       "        vertical-align: middle;\n",
       "    }\n",
       "\n",
       "    .dataframe tbody tr th {\n",
       "        vertical-align: top;\n",
       "    }\n",
       "\n",
       "    .dataframe thead th {\n",
       "        text-align: right;\n",
       "    }\n",
       "</style>\n",
       "<table border=\"1\" class=\"dataframe\">\n",
       "  <thead>\n",
       "    <tr style=\"text-align: right;\">\n",
       "      <th></th>\n",
       "      <th>senior_citizen</th>\n",
       "      <th>tenure</th>\n",
       "      <th>monthly_charges</th>\n",
       "      <th>total_charges</th>\n",
       "      <th>gender_Male</th>\n",
       "      <th>partner_Yes</th>\n",
       "      <th>dependents_Yes</th>\n",
       "      <th>phone_service_Yes</th>\n",
       "      <th>multiple_lines_No phone service</th>\n",
       "      <th>multiple_lines_Yes</th>\n",
       "      <th>...</th>\n",
       "      <th>streaming_movies_Yes</th>\n",
       "      <th>paperless_billing_Yes</th>\n",
       "      <th>churn_Yes</th>\n",
       "      <th>contract_type_One year</th>\n",
       "      <th>contract_type_Two year</th>\n",
       "      <th>internet_service_type_Fiber optic</th>\n",
       "      <th>internet_service_type_None</th>\n",
       "      <th>payment_type_Credit card (automatic)</th>\n",
       "      <th>payment_type_Electronic check</th>\n",
       "      <th>payment_type_Mailed check</th>\n",
       "    </tr>\n",
       "    <tr>\n",
       "      <th>customer_id</th>\n",
       "      <th></th>\n",
       "      <th></th>\n",
       "      <th></th>\n",
       "      <th></th>\n",
       "      <th></th>\n",
       "      <th></th>\n",
       "      <th></th>\n",
       "      <th></th>\n",
       "      <th></th>\n",
       "      <th></th>\n",
       "      <th></th>\n",
       "      <th></th>\n",
       "      <th></th>\n",
       "      <th></th>\n",
       "      <th></th>\n",
       "      <th></th>\n",
       "      <th></th>\n",
       "      <th></th>\n",
       "      <th></th>\n",
       "      <th></th>\n",
       "      <th></th>\n",
       "    </tr>\n",
       "  </thead>\n",
       "  <tbody>\n",
       "    <tr>\n",
       "      <th>7696-CFTAT</th>\n",
       "      <td>0</td>\n",
       "      <td>37</td>\n",
       "      <td>19</td>\n",
       "      <td>726.1</td>\n",
       "      <td>1</td>\n",
       "      <td>1</td>\n",
       "      <td>1</td>\n",
       "      <td>1</td>\n",
       "      <td>0</td>\n",
       "      <td>0</td>\n",
       "      <td>...</td>\n",
       "      <td>0</td>\n",
       "      <td>0</td>\n",
       "      <td>0</td>\n",
       "      <td>0</td>\n",
       "      <td>1</td>\n",
       "      <td>0</td>\n",
       "      <td>1</td>\n",
       "      <td>0</td>\n",
       "      <td>0</td>\n",
       "      <td>0</td>\n",
       "    </tr>\n",
       "    <tr>\n",
       "      <th>2388-LAESQ</th>\n",
       "      <td>1</td>\n",
       "      <td>72</td>\n",
       "      <td>114</td>\n",
       "      <td>8317.95</td>\n",
       "      <td>0</td>\n",
       "      <td>1</td>\n",
       "      <td>0</td>\n",
       "      <td>1</td>\n",
       "      <td>0</td>\n",
       "      <td>1</td>\n",
       "      <td>...</td>\n",
       "      <td>1</td>\n",
       "      <td>1</td>\n",
       "      <td>0</td>\n",
       "      <td>0</td>\n",
       "      <td>1</td>\n",
       "      <td>1</td>\n",
       "      <td>0</td>\n",
       "      <td>0</td>\n",
       "      <td>0</td>\n",
       "      <td>0</td>\n",
       "    </tr>\n",
       "    <tr>\n",
       "      <th>8217-QYOHV</th>\n",
       "      <td>0</td>\n",
       "      <td>5</td>\n",
       "      <td>55</td>\n",
       "      <td>266.95</td>\n",
       "      <td>1</td>\n",
       "      <td>0</td>\n",
       "      <td>0</td>\n",
       "      <td>1</td>\n",
       "      <td>0</td>\n",
       "      <td>0</td>\n",
       "      <td>...</td>\n",
       "      <td>0</td>\n",
       "      <td>1</td>\n",
       "      <td>0</td>\n",
       "      <td>0</td>\n",
       "      <td>0</td>\n",
       "      <td>0</td>\n",
       "      <td>0</td>\n",
       "      <td>0</td>\n",
       "      <td>0</td>\n",
       "      <td>1</td>\n",
       "    </tr>\n",
       "    <tr>\n",
       "      <th>4393-OBCRR</th>\n",
       "      <td>0</td>\n",
       "      <td>3</td>\n",
       "      <td>20</td>\n",
       "      <td>71.2</td>\n",
       "      <td>0</td>\n",
       "      <td>0</td>\n",
       "      <td>0</td>\n",
       "      <td>1</td>\n",
       "      <td>0</td>\n",
       "      <td>0</td>\n",
       "      <td>...</td>\n",
       "      <td>0</td>\n",
       "      <td>0</td>\n",
       "      <td>0</td>\n",
       "      <td>1</td>\n",
       "      <td>0</td>\n",
       "      <td>0</td>\n",
       "      <td>1</td>\n",
       "      <td>0</td>\n",
       "      <td>0</td>\n",
       "      <td>1</td>\n",
       "    </tr>\n",
       "    <tr>\n",
       "      <th>0337-CNPZE</th>\n",
       "      <td>0</td>\n",
       "      <td>41</td>\n",
       "      <td>106</td>\n",
       "      <td>4443.45</td>\n",
       "      <td>0</td>\n",
       "      <td>0</td>\n",
       "      <td>0</td>\n",
       "      <td>1</td>\n",
       "      <td>0</td>\n",
       "      <td>1</td>\n",
       "      <td>...</td>\n",
       "      <td>1</td>\n",
       "      <td>1</td>\n",
       "      <td>1</td>\n",
       "      <td>0</td>\n",
       "      <td>0</td>\n",
       "      <td>1</td>\n",
       "      <td>0</td>\n",
       "      <td>0</td>\n",
       "      <td>1</td>\n",
       "      <td>0</td>\n",
       "    </tr>\n",
       "  </tbody>\n",
       "</table>\n",
       "<p>5 rows × 31 columns</p>\n",
       "</div>"
      ],
      "text/plain": [
       "             senior_citizen  tenure  monthly_charges total_charges  \\\n",
       "customer_id                                                          \n",
       "7696-CFTAT                0      37               19         726.1   \n",
       "2388-LAESQ                1      72              114       8317.95   \n",
       "8217-QYOHV                0       5               55        266.95   \n",
       "4393-OBCRR                0       3               20          71.2   \n",
       "0337-CNPZE                0      41              106       4443.45   \n",
       "\n",
       "             gender_Male  partner_Yes  dependents_Yes  phone_service_Yes  \\\n",
       "customer_id                                                                \n",
       "7696-CFTAT             1            1               1                  1   \n",
       "2388-LAESQ             0            1               0                  1   \n",
       "8217-QYOHV             1            0               0                  1   \n",
       "4393-OBCRR             0            0               0                  1   \n",
       "0337-CNPZE             0            0               0                  1   \n",
       "\n",
       "             multiple_lines_No phone service  multiple_lines_Yes  ...  \\\n",
       "customer_id                                                       ...   \n",
       "7696-CFTAT                                 0                   0  ...   \n",
       "2388-LAESQ                                 0                   1  ...   \n",
       "8217-QYOHV                                 0                   0  ...   \n",
       "4393-OBCRR                                 0                   0  ...   \n",
       "0337-CNPZE                                 0                   1  ...   \n",
       "\n",
       "             streaming_movies_Yes  paperless_billing_Yes  churn_Yes  \\\n",
       "customer_id                                                           \n",
       "7696-CFTAT                      0                      0          0   \n",
       "2388-LAESQ                      1                      1          0   \n",
       "8217-QYOHV                      0                      1          0   \n",
       "4393-OBCRR                      0                      0          0   \n",
       "0337-CNPZE                      1                      1          1   \n",
       "\n",
       "             contract_type_One year  contract_type_Two year  \\\n",
       "customer_id                                                   \n",
       "7696-CFTAT                        0                       1   \n",
       "2388-LAESQ                        0                       1   \n",
       "8217-QYOHV                        0                       0   \n",
       "4393-OBCRR                        1                       0   \n",
       "0337-CNPZE                        0                       0   \n",
       "\n",
       "             internet_service_type_Fiber optic  internet_service_type_None  \\\n",
       "customer_id                                                                  \n",
       "7696-CFTAT                                   0                           1   \n",
       "2388-LAESQ                                   1                           0   \n",
       "8217-QYOHV                                   0                           0   \n",
       "4393-OBCRR                                   0                           1   \n",
       "0337-CNPZE                                   1                           0   \n",
       "\n",
       "             payment_type_Credit card (automatic)  \\\n",
       "customer_id                                         \n",
       "7696-CFTAT                                      0   \n",
       "2388-LAESQ                                      0   \n",
       "8217-QYOHV                                      0   \n",
       "4393-OBCRR                                      0   \n",
       "0337-CNPZE                                      0   \n",
       "\n",
       "             payment_type_Electronic check  payment_type_Mailed check  \n",
       "customer_id                                                            \n",
       "7696-CFTAT                               0                          0  \n",
       "2388-LAESQ                               0                          0  \n",
       "8217-QYOHV                               0                          1  \n",
       "4393-OBCRR                               0                          1  \n",
       "0337-CNPZE                               1                          0  \n",
       "\n",
       "[5 rows x 31 columns]"
      ]
     },
     "execution_count": 97,
     "metadata": {},
     "output_type": "execute_result"
    }
   ],
   "source": [
    "test_encode.head()"
   ]
  },
  {
   "cell_type": "code",
   "execution_count": 101,
   "id": "83cc8750-4a1d-4aed-ab37-0b5d097d081d",
   "metadata": {
    "tags": []
   },
   "outputs": [],
   "source": [
    "import pandas as pd\n",
    "\n",
    "# Assuming forest_best is your trained model\n",
    "probabilities = forest_best.predict_proba(test_encode.drop(columns='churn_Yes'))\n",
    "\n",
    "# Probabilities for the positive class (churn_Yes)\n",
    "churn_probabilities = probabilities[:, 1]  # assuming churn_Yes is at index 1\n",
    "\n",
    "# Create a DataFrame with customer IDs\n",
    "predictions_df = pd.DataFrame({'ID': test_encode.index})  # Replace 'ID_column' with your actual ID column\n",
    "\n",
    "# Add Predictions and Churn_Probability columns to the DataFrame\n",
    "predictions_df['Predictions'] = forest_best.predict(test_encode.drop(columns='churn_Yes'))\n",
    "predictions_df['Churn_Probability'] = churn_probabilities\n",
    "\n",
    "# You can also create a column indicating whether the customer churned based on a threshold\n",
    "threshold = 0.5  # Adjust the threshold as needed\n",
    "predictions_df['Churn_Prediction'] = (churn_probabilities > threshold).astype(int)\n",
    "\n",
    "# Save the predictions DataFrame to a CSV file\n",
    "predictions_df.to_csv('predictions_random_forest.csv', index=False)"
   ]
  },
  {
   "cell_type": "markdown",
   "id": "886fbdb9-f4a4-4214-8b67-4849ae5b3e65",
   "metadata": {},
   "source": [
    "In the real world, I can expect my model to predict churn based off my selected features 78.99% of the time"
   ]
  }
 ],
 "metadata": {
  "kernelspec": {
   "display_name": "Python 3 (ipykernel)",
   "language": "python",
   "name": "python3"
  },
  "language_info": {
   "codemirror_mode": {
    "name": "ipython",
    "version": 3
   },
   "file_extension": ".py",
   "mimetype": "text/x-python",
   "name": "python",
   "nbconvert_exporter": "python",
   "pygments_lexer": "ipython3",
   "version": "3.11.5"
  }
 },
 "nbformat": 4,
 "nbformat_minor": 5
}
