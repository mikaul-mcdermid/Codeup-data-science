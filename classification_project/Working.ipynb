{
 "cells": [
  {
   "cell_type": "code",
   "execution_count": 1,
   "id": "12b72e39-8112-4419-b880-c2cc4efc2cdc",
   "metadata": {
    "tags": []
   },
   "outputs": [],
   "source": [
    "# All the imports\n",
    "import acquire as a\n",
    "import prepare as p\n",
    "# tabular manipulation\n",
    "import numpy as np\n",
    "import pandas as pd\n",
    "# ML stuff:\n",
    "from sklearn.metrics import accuracy_score, classification_report\n",
    "from sklearn.tree import DecisionTreeClassifier, \\\n",
    "export_text, plot_tree\n",
    "from sklearn.ensemble import RandomForestClassifier\n",
    "from sklearn.linear_model import LogisticRegression\n",
    "from sklearn.neighbors import KNeighborsClassifier\n",
    "import matplotlib.pyplot as plt\n",
    "import seaborn as sns\n",
    "from scipy import stats"
   ]
  },
  {
   "cell_type": "markdown",
   "id": "e43961ea-15f4-4042-a4e7-6357bc0d11bb",
   "metadata": {},
   "source": [
    "Questions:\n",
    "1.) Does paperless billing affect churn\n",
    "2.) does streaming tv affect churn\n",
    "3.) does streaming movies affect churn\n",
    "4.) does tech support affect churn"
   ]
  },
  {
   "cell_type": "code",
   "execution_count": 2,
   "id": "6b445033-ef08-44ee-9d14-8d841a6abc0a",
   "metadata": {
    "tags": []
   },
   "outputs": [
    {
     "name": "stdout",
     "output_type": "stream",
     "text": [
      "this file exists, reading from csv\n"
     ]
    }
   ],
   "source": [
    "telco = a.get_telco_data()"
   ]
  },
  {
   "cell_type": "code",
   "execution_count": 3,
   "id": "024e4bf7-caae-430b-a255-2d75bc8f3c49",
   "metadata": {
    "tags": []
   },
   "outputs": [
    {
     "data": {
      "text/html": [
       "<div>\n",
       "<style scoped>\n",
       "    .dataframe tbody tr th:only-of-type {\n",
       "        vertical-align: middle;\n",
       "    }\n",
       "\n",
       "    .dataframe tbody tr th {\n",
       "        vertical-align: top;\n",
       "    }\n",
       "\n",
       "    .dataframe thead th {\n",
       "        text-align: right;\n",
       "    }\n",
       "</style>\n",
       "<table border=\"1\" class=\"dataframe\">\n",
       "  <thead>\n",
       "    <tr style=\"text-align: right;\">\n",
       "      <th></th>\n",
       "      <th>0</th>\n",
       "      <th>1</th>\n",
       "      <th>2</th>\n",
       "      <th>3</th>\n",
       "      <th>4</th>\n",
       "    </tr>\n",
       "  </thead>\n",
       "  <tbody>\n",
       "    <tr>\n",
       "      <th>customer_id</th>\n",
       "      <td>0002-ORFBO</td>\n",
       "      <td>0003-MKNFE</td>\n",
       "      <td>0004-TLHLJ</td>\n",
       "      <td>0011-IGKFF</td>\n",
       "      <td>0013-EXCHZ</td>\n",
       "    </tr>\n",
       "    <tr>\n",
       "      <th>gender</th>\n",
       "      <td>Female</td>\n",
       "      <td>Male</td>\n",
       "      <td>Male</td>\n",
       "      <td>Male</td>\n",
       "      <td>Female</td>\n",
       "    </tr>\n",
       "    <tr>\n",
       "      <th>senior_citizen</th>\n",
       "      <td>0</td>\n",
       "      <td>0</td>\n",
       "      <td>0</td>\n",
       "      <td>1</td>\n",
       "      <td>1</td>\n",
       "    </tr>\n",
       "    <tr>\n",
       "      <th>partner</th>\n",
       "      <td>Yes</td>\n",
       "      <td>No</td>\n",
       "      <td>No</td>\n",
       "      <td>Yes</td>\n",
       "      <td>Yes</td>\n",
       "    </tr>\n",
       "    <tr>\n",
       "      <th>dependents</th>\n",
       "      <td>Yes</td>\n",
       "      <td>No</td>\n",
       "      <td>No</td>\n",
       "      <td>No</td>\n",
       "      <td>No</td>\n",
       "    </tr>\n",
       "    <tr>\n",
       "      <th>tenure</th>\n",
       "      <td>9</td>\n",
       "      <td>9</td>\n",
       "      <td>4</td>\n",
       "      <td>13</td>\n",
       "      <td>3</td>\n",
       "    </tr>\n",
       "    <tr>\n",
       "      <th>phone_service</th>\n",
       "      <td>Yes</td>\n",
       "      <td>Yes</td>\n",
       "      <td>Yes</td>\n",
       "      <td>Yes</td>\n",
       "      <td>Yes</td>\n",
       "    </tr>\n",
       "    <tr>\n",
       "      <th>multiple_lines</th>\n",
       "      <td>No</td>\n",
       "      <td>Yes</td>\n",
       "      <td>No</td>\n",
       "      <td>No</td>\n",
       "      <td>No</td>\n",
       "    </tr>\n",
       "    <tr>\n",
       "      <th>online_security</th>\n",
       "      <td>No</td>\n",
       "      <td>No</td>\n",
       "      <td>No</td>\n",
       "      <td>No</td>\n",
       "      <td>No</td>\n",
       "    </tr>\n",
       "    <tr>\n",
       "      <th>online_backup</th>\n",
       "      <td>Yes</td>\n",
       "      <td>No</td>\n",
       "      <td>No</td>\n",
       "      <td>Yes</td>\n",
       "      <td>No</td>\n",
       "    </tr>\n",
       "    <tr>\n",
       "      <th>device_protection</th>\n",
       "      <td>No</td>\n",
       "      <td>No</td>\n",
       "      <td>Yes</td>\n",
       "      <td>Yes</td>\n",
       "      <td>No</td>\n",
       "    </tr>\n",
       "    <tr>\n",
       "      <th>tech_support</th>\n",
       "      <td>Yes</td>\n",
       "      <td>No</td>\n",
       "      <td>No</td>\n",
       "      <td>No</td>\n",
       "      <td>Yes</td>\n",
       "    </tr>\n",
       "    <tr>\n",
       "      <th>streaming_tv</th>\n",
       "      <td>Yes</td>\n",
       "      <td>No</td>\n",
       "      <td>No</td>\n",
       "      <td>Yes</td>\n",
       "      <td>Yes</td>\n",
       "    </tr>\n",
       "    <tr>\n",
       "      <th>streaming_movies</th>\n",
       "      <td>No</td>\n",
       "      <td>Yes</td>\n",
       "      <td>No</td>\n",
       "      <td>Yes</td>\n",
       "      <td>No</td>\n",
       "    </tr>\n",
       "    <tr>\n",
       "      <th>paperless_billing</th>\n",
       "      <td>Yes</td>\n",
       "      <td>No</td>\n",
       "      <td>Yes</td>\n",
       "      <td>Yes</td>\n",
       "      <td>Yes</td>\n",
       "    </tr>\n",
       "    <tr>\n",
       "      <th>monthly_charges</th>\n",
       "      <td>65.6</td>\n",
       "      <td>59.9</td>\n",
       "      <td>73.9</td>\n",
       "      <td>98.0</td>\n",
       "      <td>83.9</td>\n",
       "    </tr>\n",
       "    <tr>\n",
       "      <th>total_charges</th>\n",
       "      <td>593.3</td>\n",
       "      <td>542.4</td>\n",
       "      <td>280.85</td>\n",
       "      <td>1237.85</td>\n",
       "      <td>267.4</td>\n",
       "    </tr>\n",
       "    <tr>\n",
       "      <th>churn</th>\n",
       "      <td>No</td>\n",
       "      <td>No</td>\n",
       "      <td>Yes</td>\n",
       "      <td>Yes</td>\n",
       "      <td>Yes</td>\n",
       "    </tr>\n",
       "    <tr>\n",
       "      <th>contract_type</th>\n",
       "      <td>One year</td>\n",
       "      <td>Month-to-month</td>\n",
       "      <td>Month-to-month</td>\n",
       "      <td>Month-to-month</td>\n",
       "      <td>Month-to-month</td>\n",
       "    </tr>\n",
       "    <tr>\n",
       "      <th>internet_service_type</th>\n",
       "      <td>DSL</td>\n",
       "      <td>DSL</td>\n",
       "      <td>Fiber optic</td>\n",
       "      <td>Fiber optic</td>\n",
       "      <td>Fiber optic</td>\n",
       "    </tr>\n",
       "    <tr>\n",
       "      <th>payment_type</th>\n",
       "      <td>Mailed check</td>\n",
       "      <td>Mailed check</td>\n",
       "      <td>Electronic check</td>\n",
       "      <td>Electronic check</td>\n",
       "      <td>Mailed check</td>\n",
       "    </tr>\n",
       "  </tbody>\n",
       "</table>\n",
       "</div>"
      ],
      "text/plain": [
       "                                  0               1                 2  \\\n",
       "customer_id              0002-ORFBO      0003-MKNFE        0004-TLHLJ   \n",
       "gender                       Female            Male              Male   \n",
       "senior_citizen                    0               0                 0   \n",
       "partner                         Yes              No                No   \n",
       "dependents                      Yes              No                No   \n",
       "tenure                            9               9                 4   \n",
       "phone_service                   Yes             Yes               Yes   \n",
       "multiple_lines                   No             Yes                No   \n",
       "online_security                  No              No                No   \n",
       "online_backup                   Yes              No                No   \n",
       "device_protection                No              No               Yes   \n",
       "tech_support                    Yes              No                No   \n",
       "streaming_tv                    Yes              No                No   \n",
       "streaming_movies                 No             Yes                No   \n",
       "paperless_billing               Yes              No               Yes   \n",
       "monthly_charges                65.6            59.9              73.9   \n",
       "total_charges                 593.3           542.4            280.85   \n",
       "churn                            No              No               Yes   \n",
       "contract_type              One year  Month-to-month    Month-to-month   \n",
       "internet_service_type           DSL             DSL       Fiber optic   \n",
       "payment_type           Mailed check    Mailed check  Electronic check   \n",
       "\n",
       "                                      3               4  \n",
       "customer_id                  0011-IGKFF      0013-EXCHZ  \n",
       "gender                             Male          Female  \n",
       "senior_citizen                        1               1  \n",
       "partner                             Yes             Yes  \n",
       "dependents                           No              No  \n",
       "tenure                               13               3  \n",
       "phone_service                       Yes             Yes  \n",
       "multiple_lines                       No              No  \n",
       "online_security                      No              No  \n",
       "online_backup                       Yes              No  \n",
       "device_protection                   Yes              No  \n",
       "tech_support                         No             Yes  \n",
       "streaming_tv                        Yes             Yes  \n",
       "streaming_movies                    Yes              No  \n",
       "paperless_billing                   Yes             Yes  \n",
       "monthly_charges                    98.0            83.9  \n",
       "total_charges                   1237.85           267.4  \n",
       "churn                               Yes             Yes  \n",
       "contract_type            Month-to-month  Month-to-month  \n",
       "internet_service_type       Fiber optic     Fiber optic  \n",
       "payment_type           Electronic check    Mailed check  "
      ]
     },
     "execution_count": 3,
     "metadata": {},
     "output_type": "execute_result"
    }
   ],
   "source": [
    "telco = p.prep_telco(telco)\n",
    "telco.head().T"
   ]
  },
  {
   "cell_type": "code",
   "execution_count": 4,
   "id": "50f93178-29eb-4ced-9df5-a121bbc66051",
   "metadata": {
    "tags": []
   },
   "outputs": [
    {
     "data": {
      "text/plain": [
       "0       False\n",
       "1       False\n",
       "2       False\n",
       "3       False\n",
       "4       False\n",
       "        ...  \n",
       "7038    False\n",
       "7039    False\n",
       "7040    False\n",
       "7041    False\n",
       "7042    False\n",
       "Name: monthly_charges, Length: 7043, dtype: bool"
      ]
     },
     "execution_count": 4,
     "metadata": {},
     "output_type": "execute_result"
    }
   ],
   "source": [
    "telco.monthly_charges.isna()"
   ]
  },
  {
   "cell_type": "code",
   "execution_count": 5,
   "id": "4b4bef66-94ff-428c-90db-54d3adc194a0",
   "metadata": {
    "tags": []
   },
   "outputs": [
    {
     "name": "stdout",
     "output_type": "stream",
     "text": [
      "<class 'pandas.core.frame.DataFrame'>\n",
      "Index: 7043 entries, 0 to 7042\n",
      "Data columns (total 21 columns):\n",
      " #   Column                 Non-Null Count  Dtype  \n",
      "---  ------                 --------------  -----  \n",
      " 0   customer_id            7043 non-null   object \n",
      " 1   gender                 7043 non-null   object \n",
      " 2   senior_citizen         7043 non-null   int64  \n",
      " 3   partner                7043 non-null   object \n",
      " 4   dependents             7043 non-null   object \n",
      " 5   tenure                 7043 non-null   int64  \n",
      " 6   phone_service          7043 non-null   object \n",
      " 7   multiple_lines         7043 non-null   object \n",
      " 8   online_security        7043 non-null   object \n",
      " 9   online_backup          7043 non-null   object \n",
      " 10  device_protection      7043 non-null   object \n",
      " 11  tech_support           7043 non-null   object \n",
      " 12  streaming_tv           7043 non-null   object \n",
      " 13  streaming_movies       7043 non-null   object \n",
      " 14  paperless_billing      7043 non-null   object \n",
      " 15  monthly_charges        7043 non-null   float64\n",
      " 16  total_charges          7043 non-null   object \n",
      " 17  churn                  7043 non-null   object \n",
      " 18  contract_type          7043 non-null   object \n",
      " 19  internet_service_type  5517 non-null   object \n",
      " 20  payment_type           7043 non-null   object \n",
      "dtypes: float64(1), int64(2), object(18)\n",
      "memory usage: 1.2+ MB\n"
     ]
    }
   ],
   "source": [
    "telco.info()"
   ]
  },
  {
   "cell_type": "code",
   "execution_count": null,
   "id": "af8dfb77-8a98-41c0-8278-d590c8ecec71",
   "metadata": {
    "tags": []
   },
   "outputs": [],
   "source": []
  },
  {
   "cell_type": "code",
   "execution_count": 6,
   "id": "eadc084a-a5d8-4a63-a80d-33f65fdc32e2",
   "metadata": {
    "tags": []
   },
   "outputs": [],
   "source": [
    "telco['internet_service_type'] = telco['internet_service_type'].fillna('None')"
   ]
  },
  {
   "cell_type": "code",
   "execution_count": 11,
   "id": "a87b87a7-bf1b-4c3e-b7d7-74e0d787452f",
   "metadata": {
    "tags": []
   },
   "outputs": [],
   "source": [
    "train, val, test = p.splitting_data(telco, 'churn')"
   ]
  },
  {
   "cell_type": "code",
   "execution_count": 10,
   "id": "5398fe09-52e6-4d6e-be45-916ffafba720",
   "metadata": {
    "tags": []
   },
   "outputs": [],
   "source": [
    "telco_train, telco_val, telco_test = p.splitting_data(telco, 'churn')"
   ]
  },
  {
   "cell_type": "code",
   "execution_count": 11,
   "id": "a50b5df2-e28b-44d2-b638-c58d7d760eed",
   "metadata": {
    "tags": []
   },
   "outputs": [],
   "source": [
    "train_encode, val_encode, test_encode = p.preprocess_telco(telco_train,telco_val,telco_test)"
   ]
  },
  {
   "cell_type": "code",
   "execution_count": 15,
   "id": "61153eff-7dcb-480e-a87a-5cbb69b180ed",
   "metadata": {
    "tags": []
   },
   "outputs": [
    {
     "name": "stdout",
     "output_type": "stream",
     "text": [
      "<class 'pandas.core.frame.DataFrame'>\n",
      "Index: 4225 entries, 8775-CEBBJ to 1078-TDCRN\n",
      "Data columns (total 30 columns):\n",
      " #   Column                                 Non-Null Count  Dtype  \n",
      "---  ------                                 --------------  -----  \n",
      " 0   senior_citizen                         4225 non-null   int64  \n",
      " 1   tenure                                 4225 non-null   int64  \n",
      " 2   monthly_charges                        4225 non-null   int64  \n",
      " 3   total_charges                          4225 non-null   float64\n",
      " 4   gender_Male                            4225 non-null   int64  \n",
      " 5   partner_Yes                            4225 non-null   int64  \n",
      " 6   dependents_Yes                         4225 non-null   int64  \n",
      " 7   phone_service_Yes                      4225 non-null   int64  \n",
      " 8   multiple_lines_No phone service        4225 non-null   int64  \n",
      " 9   multiple_lines_Yes                     4225 non-null   int64  \n",
      " 10  online_security_No internet service    4225 non-null   int64  \n",
      " 11  online_security_Yes                    4225 non-null   int64  \n",
      " 12  online_backup_No internet service      4225 non-null   int64  \n",
      " 13  online_backup_Yes                      4225 non-null   int64  \n",
      " 14  device_protection_No internet service  4225 non-null   int64  \n",
      " 15  device_protection_Yes                  4225 non-null   int64  \n",
      " 16  tech_support_No internet service       4225 non-null   int64  \n",
      " 17  tech_support_Yes                       4225 non-null   int64  \n",
      " 18  streaming_tv_No internet service       4225 non-null   int64  \n",
      " 19  streaming_tv_Yes                       4225 non-null   int64  \n",
      " 20  streaming_movies_No internet service   4225 non-null   int64  \n",
      " 21  streaming_movies_Yes                   4225 non-null   int64  \n",
      " 22  paperless_billing_Yes                  4225 non-null   int64  \n",
      " 23  churn_Yes                              4225 non-null   int64  \n",
      " 24  contract_type_One year                 4225 non-null   int64  \n",
      " 25  contract_type_Two year                 4225 non-null   int64  \n",
      " 26  internet_service_type_Fiber optic      4225 non-null   int64  \n",
      " 27  payment_type_Credit card (automatic)   4225 non-null   int64  \n",
      " 28  payment_type_Electronic check          4225 non-null   int64  \n",
      " 29  payment_type_Mailed check              4225 non-null   int64  \n",
      "dtypes: float64(1), int64(29)\n",
      "memory usage: 1023.2+ KB\n"
     ]
    }
   ],
   "source": [
    "train_encode.info()"
   ]
  },
  {
   "cell_type": "code",
   "execution_count": 11,
   "id": "c5588a5c-a244-4d17-b5e2-b2a2196280c9",
   "metadata": {
    "tags": []
   },
   "outputs": [
    {
     "data": {
      "text/plain": [
       "senior_citizen\n",
       "0    3575\n",
       "1     650\n",
       "Name: count, dtype: int64"
      ]
     },
     "execution_count": 11,
     "metadata": {},
     "output_type": "execute_result"
    }
   ],
   "source": [
    "train_encode.senior_citizen.value_counts()"
   ]
  },
  {
   "cell_type": "code",
   "execution_count": 12,
   "id": "ed13d971-a03a-45ce-bf12-664afb1e5e2f",
   "metadata": {
    "tags": []
   },
   "outputs": [],
   "source": [
    "X_train, y_train = train_encode.drop(columns='churn_Yes'), \\\n",
    "train_encode.churn_Yes"
   ]
  },
  {
   "cell_type": "code",
   "execution_count": 13,
   "id": "f1fc5b3e-ec75-4538-81ea-db9e84d54ab2",
   "metadata": {
    "tags": []
   },
   "outputs": [],
   "source": [
    "X_val, y_val = val_encode.drop(columns='churn_Yes'), \\\n",
    "val_encode.churn_Yes"
   ]
  },
  {
   "cell_type": "code",
   "execution_count": 14,
   "id": "539acfc7-7fb1-450d-b283-f190ce09d9c1",
   "metadata": {
    "tags": []
   },
   "outputs": [],
   "source": [
    "X_test, y_test = test_encode.drop(columns='churn_Yes'), \\\n",
    "test_encode.churn_Yes"
   ]
  },
  {
   "cell_type": "code",
   "execution_count": 20,
   "id": "89f71495-1e0f-41cc-b081-e99b011cf6db",
   "metadata": {
    "tags": []
   },
   "outputs": [
    {
     "data": {
      "text/plain": [
       "customer_id              0\n",
       "gender                   0\n",
       "senior_citizen           0\n",
       "partner                  0\n",
       "dependents               0\n",
       "tenure                   0\n",
       "phone_service            0\n",
       "multiple_lines           0\n",
       "online_security          0\n",
       "online_backup            0\n",
       "device_protection        0\n",
       "tech_support             0\n",
       "streaming_tv             0\n",
       "streaming_movies         0\n",
       "paperless_billing        0\n",
       "monthly_charges          0\n",
       "total_charges            0\n",
       "churn                    0\n",
       "contract_type            0\n",
       "internet_service_type    0\n",
       "payment_type             0\n",
       "dtype: int64"
      ]
     },
     "execution_count": 20,
     "metadata": {},
     "output_type": "execute_result"
    }
   ],
   "source": [
    "telco.isnull().sum()"
   ]
  },
  {
   "cell_type": "code",
   "execution_count": 6,
   "id": "1a306477-68c3-47f7-9109-544e836ab3b1",
   "metadata": {
    "tags": []
   },
   "outputs": [],
   "source": [
    "# replaces values in the total charges column with a blank space to 0.0\n",
    "telco.total_charges = telco.total_charges.str.replace(' ','0.0')"
   ]
  },
  {
   "cell_type": "code",
   "execution_count": 7,
   "id": "da174801-55c6-40b3-b33b-c78aa8dde3a2",
   "metadata": {
    "tags": []
   },
   "outputs": [],
   "source": [
    "# changes total_charges to a float instead of an object\n",
    "telco['total_charges'] = (telco.total_charges + '0').astype(float)"
   ]
  },
  {
   "cell_type": "code",
   "execution_count": 8,
   "id": "f50ed6c1-59c8-4a07-9c5b-712a3d16e5ac",
   "metadata": {
    "tags": []
   },
   "outputs": [],
   "source": [
    "telco = telco.set_index(['customer_id'])"
   ]
  },
  {
   "cell_type": "code",
   "execution_count": 18,
   "id": "32b2ef2c-086a-42ed-b225-14b04a42225d",
   "metadata": {
    "tags": []
   },
   "outputs": [
    {
     "name": "stdout",
     "output_type": "stream",
     "text": [
      "<class 'pandas.core.frame.DataFrame'>\n",
      "Index: 4225 entries, 8775-CEBBJ to 1078-TDCRN\n",
      "Data columns (total 30 columns):\n",
      " #   Column                                 Non-Null Count  Dtype  \n",
      "---  ------                                 --------------  -----  \n",
      " 0   senior_citizen                         4225 non-null   int64  \n",
      " 1   tenure                                 4225 non-null   int64  \n",
      " 2   monthly_charges                        4225 non-null   int64  \n",
      " 3   total_charges                          4225 non-null   float64\n",
      " 4   gender_Male                            4225 non-null   int64  \n",
      " 5   partner_Yes                            4225 non-null   int64  \n",
      " 6   dependents_Yes                         4225 non-null   int64  \n",
      " 7   phone_service_Yes                      4225 non-null   int64  \n",
      " 8   multiple_lines_No phone service        4225 non-null   int64  \n",
      " 9   multiple_lines_Yes                     4225 non-null   int64  \n",
      " 10  online_security_No internet service    4225 non-null   int64  \n",
      " 11  online_security_Yes                    4225 non-null   int64  \n",
      " 12  online_backup_No internet service      4225 non-null   int64  \n",
      " 13  online_backup_Yes                      4225 non-null   int64  \n",
      " 14  device_protection_No internet service  4225 non-null   int64  \n",
      " 15  device_protection_Yes                  4225 non-null   int64  \n",
      " 16  tech_support_No internet service       4225 non-null   int64  \n",
      " 17  tech_support_Yes                       4225 non-null   int64  \n",
      " 18  streaming_tv_No internet service       4225 non-null   int64  \n",
      " 19  streaming_tv_Yes                       4225 non-null   int64  \n",
      " 20  streaming_movies_No internet service   4225 non-null   int64  \n",
      " 21  streaming_movies_Yes                   4225 non-null   int64  \n",
      " 22  paperless_billing_Yes                  4225 non-null   int64  \n",
      " 23  churn_Yes                              4225 non-null   int64  \n",
      " 24  contract_type_One year                 4225 non-null   int64  \n",
      " 25  contract_type_Two year                 4225 non-null   int64  \n",
      " 26  internet_service_type_Fiber optic      4225 non-null   int64  \n",
      " 27  payment_type_Credit card (automatic)   4225 non-null   int64  \n",
      " 28  payment_type_Electronic check          4225 non-null   int64  \n",
      " 29  payment_type_Mailed check              4225 non-null   int64  \n",
      "dtypes: float64(1), int64(29)\n",
      "memory usage: 1.1+ MB\n"
     ]
    }
   ],
   "source": [
    "train_encode.info()"
   ]
  },
  {
   "cell_type": "markdown",
   "id": "fba8da19-8a57-4f4f-9e94-c836d81668bd",
   "metadata": {},
   "source": [
    "## EXPLORE"
   ]
  },
  {
   "cell_type": "code",
   "execution_count": 24,
   "id": "62ba516a-1fcd-4d4e-92bc-e7c8fdd7f5b3",
   "metadata": {
    "tags": []
   },
   "outputs": [
    {
     "data": {
      "image/png": "[encoded data removed]",
      "text/plain": [
       "<Figure size 640x480 with 1 Axes>"
      ]
     },
     "metadata": {},
     "output_type": "display_data"
    }
   ],
   "source": [
    "sns.barplot(data=train_encode, x='gender_Male', y='churn_Yes')\n",
    "plt.title(\"Does being a man influence leaving yo bitch?\")\n",
    "plt.show()\n"
   ]
  },
  {
   "cell_type": "code",
   "execution_count": 28,
   "id": "f34d551c-e362-44b3-9962-75be7ad68240",
   "metadata": {
    "tags": []
   },
   "outputs": [
    {
     "data": {
      "image/png": "[encoded data removed]",
      "text/plain": [
       "<Figure size 640x480 with 1 Axes>"
      ]
     },
     "metadata": {},
     "output_type": "display_data"
    }
   ],
   "source": [
    "sns.barplot(data=train_encode, x='partner_Yes', y='churn_Yes')\n",
    "plt.title(\"Does being an endentured slave affect Churn?\")\n",
    "plt.show()\n"
   ]
  },
  {
   "cell_type": "code",
   "execution_count": 29,
   "id": "cb44d57a-eb3a-4cf9-8ecd-1a21edfe962f",
   "metadata": {
    "tags": []
   },
   "outputs": [
    {
     "data": {
      "image/png": "[encoded data removed]",
      "text/plain": [
       "<Figure size 640x480 with 1 Axes>"
      ]
     },
     "metadata": {},
     "output_type": "display_data"
    }
   ],
   "source": [
    "sns.barplot(data=train_encode, x='dependents_Yes', y='churn_Yes')\n",
    "plt.title(\"Does Having Hellspawn affect Churn?\")\n",
    "plt.show()\n"
   ]
  },
  {
   "cell_type": "code",
   "execution_count": 79,
   "id": "40ae247d-0af8-4f07-9936-743cc0c8741a",
   "metadata": {
    "tags": []
   },
   "outputs": [
    {
     "data": {
      "image/png": "[encoded data removed]",
      "text/plain": [
       "<Figure size 640x480 with 1 Axes>"
      ]
     },
     "metadata": {},
     "output_type": "display_data"
    }
   ],
   "source": [
    "sns.barplot(data=telco_train, x='paperless_billing', y='churn')\n",
    "plt.title(\"Paperless Billing Causes Churn?\")\n",
    "population_churn = telco_train.churn.mean()\n",
    "plt.axhline(population_churn, label=\"Population Churn Rate\")\n",
    "plt.xticks(ticks=[0, 1], labels=['No', 'Yes'])\n",
    "plt.legend()\n",
    "plt.show()\n"
   ]
  },
  {
   "cell_type": "code",
   "execution_count": 32,
   "id": "56a014fd-c73b-4559-9a1b-f145f22b4810",
   "metadata": {
    "tags": []
   },
   "outputs": [
    {
     "name": "stdout",
     "output_type": "stream",
     "text": [
      "Reject the null hypothesis that, There is NO relationship between paperless billing and churn\n",
      "Sufficient evidence to move forward understanding that, There is a relationship between paperless billing and churn\n"
     ]
    },
    {
     "data": {
      "text/plain": [
       "5.802667394637569e-38"
      ]
     },
     "execution_count": 32,
     "metadata": {},
     "output_type": "execute_result"
    }
   ],
   "source": [
    "# Let's run a chi squared to compare proportions, to have more confidence\n",
    "α = 0.05\n",
    "null_hypothesis = \"There is NO relationship between paperless billing and churn\"\n",
    "alternative_hypothesis = \"There is a relationship between paperless billing and churn\"\n",
    "\n",
    "# Setup a crosstab of observed survival to pclass\n",
    "observed = pd.crosstab(telco_train.churn, telco_train.paperless_billing)\n",
    "\n",
    "chi2, p, degf, expected = stats.chi2_contingency(observed)\n",
    "\n",
    "if p < α:\n",
    "    print(f\"Reject the null hypothesis that, {null_hypothesis}\")\n",
    "    print(f\"Sufficient evidence to move forward understanding that, {alternative_hypothesis}\")\n",
    "else:\n",
    "    print(\"Fail to reject the null\")\n",
    "    print(\"Insufficient evidence to reject the null\")\n",
    "p"
   ]
  },
  {
   "cell_type": "code",
   "execution_count": 11,
   "id": "53e1ef4c-7a0d-43cb-ae6a-284b206660e3",
   "metadata": {
    "tags": []
   },
   "outputs": [],
   "source": [
    "# Let's run a chi squared to compare proportions, to have more confidence\n",
    "α = 0.05\n",
    "null_hypothesis = \"There is NO relationship between paperless billing and churn\"\n",
    "alternative_hypothesis = \"There is a relationship between paperless billing and churn\"\n",
    "\n",
    "# Setup a crosstab of observed survival to pclass\n",
    "observed = pd.crosstab(telco_train.churn, telco_train.paperless_billing)\n",
    "\n",
    "chi2, p, degf, expected = stats.chi2_contingency(observed)\n",
    "\n",
    "if p < α:\n",
    "    print(f\"Reject the null hypothesis that, {null_hypothesis}\")\n",
    "    print(f\"Sufficient evidence to move forward understanding that, {alternative_hypothesis}\")\n",
    "else:\n",
    "    print(\"Fail to reject the null\")\n",
    "    print(\"Insufficient evidence to reject the null\")\n",
    "p"
   ]
  },
  {
   "cell_type": "code",
   "execution_count": null,
   "id": "2a9bf364-cd6d-456b-bb8f-f0ae86a9f433",
   "metadata": {
    "tags": []
   },
   "outputs": [],
   "source": []
  },
  {
   "cell_type": "code",
   "execution_count": 21,
   "id": "b37d24e9-2025-4b42-8464-70588455d299",
   "metadata": {
    "tags": []
   },
   "outputs": [
    {
     "name": "stdout",
     "output_type": "stream",
     "text": [
      "<class 'pandas.core.frame.DataFrame'>\n",
      "Index: 4225 entries, 6201 to 731\n",
      "Data columns (total 30 columns):\n",
      " #   Column                                 Non-Null Count  Dtype \n",
      "---  ------                                 --------------  ----- \n",
      " 0   senior_citizen                         4225 non-null   int64 \n",
      " 1   tenure                                 4225 non-null   int64 \n",
      " 2   monthly_charges                        4225 non-null   int64 \n",
      " 3   total_charges                          4225 non-null   object\n",
      " 4   gender_Male                            4225 non-null   int64 \n",
      " 5   partner_Yes                            4225 non-null   int64 \n",
      " 6   dependents_Yes                         4225 non-null   int64 \n",
      " 7   phone_service_Yes                      4225 non-null   int64 \n",
      " 8   multiple_lines_No phone service        4225 non-null   int64 \n",
      " 9   multiple_lines_Yes                     4225 non-null   int64 \n",
      " 10  online_security_No internet service    4225 non-null   int64 \n",
      " 11  online_security_Yes                    4225 non-null   int64 \n",
      " 12  online_backup_No internet service      4225 non-null   int64 \n",
      " 13  online_backup_Yes                      4225 non-null   int64 \n",
      " 14  device_protection_No internet service  4225 non-null   int64 \n",
      " 15  device_protection_Yes                  4225 non-null   int64 \n",
      " 16  tech_support_No internet service       4225 non-null   int64 \n",
      " 17  tech_support_Yes                       4225 non-null   int64 \n",
      " 18  streaming_tv_No internet service       4225 non-null   int64 \n",
      " 19  streaming_tv_Yes                       4225 non-null   int64 \n",
      " 20  streaming_movies_No internet service   4225 non-null   int64 \n",
      " 21  streaming_movies_Yes                   4225 non-null   int64 \n",
      " 22  paperless_billing_Yes                  4225 non-null   int64 \n",
      " 23  contract_type_One year                 4225 non-null   int64 \n",
      " 24  contract_type_Two year                 4225 non-null   int64 \n",
      " 25  internet_service_type_Fiber optic      4225 non-null   int64 \n",
      " 26  internet_service_type_None             4225 non-null   int64 \n",
      " 27  payment_type_Credit card (automatic)   4225 non-null   int64 \n",
      " 28  payment_type_Electronic check          4225 non-null   int64 \n",
      " 29  payment_type_Mailed check              4225 non-null   int64 \n",
      "dtypes: int64(29), object(1)\n",
      "memory usage: 1023.2+ KB\n"
     ]
    }
   ],
   "source": [
    "X_train.info()"
   ]
  },
  {
   "cell_type": "code",
   "execution_count": 15,
   "id": "b3da4064-ad67-432a-9b5e-4b25e4feabb8",
   "metadata": {
    "tags": []
   },
   "outputs": [
    {
     "data": {
      "text/plain": [
       "churn_Yes\n",
       "0    3104\n",
       "1    1121\n",
       "Name: count, dtype: int64"
      ]
     },
     "execution_count": 15,
     "metadata": {},
     "output_type": "execute_result"
    }
   ],
   "source": [
    "y_train.value_counts()"
   ]
  },
  {
   "cell_type": "code",
   "execution_count": 17,
   "id": "5b508a7e-9b68-4950-b9b0-20ff52065cbe",
   "metadata": {
    "tags": []
   },
   "outputs": [
    {
     "data": {
      "text/plain": [
       "0    No\n",
       "Name: churn, dtype: object"
      ]
     },
     "execution_count": 17,
     "metadata": {},
     "output_type": "execute_result"
    }
   ],
   "source": [
    "baseline = telco.churn.mode()\n",
    "baseline"
   ]
  },
  {
   "cell_type": "code",
   "execution_count": 18,
   "id": "a46c6797-d343-410e-a8e6-fee4dfe88f8d",
   "metadata": {
    "tags": []
   },
   "outputs": [
    {
     "data": {
      "text/plain": [
       "0.7346301292063041"
      ]
     },
     "execution_count": 18,
     "metadata": {},
     "output_type": "execute_result"
    }
   ],
   "source": [
    "baseline_percentage_no = (telco.churn == \"No\").mean()\n",
    "baseline_percentage_no"
   ]
  },
  {
   "cell_type": "code",
   "execution_count": 19,
   "id": "36a25cd7-c3cf-4582-a658-f6db9ef8615f",
   "metadata": {
    "tags": []
   },
   "outputs": [
    {
     "data": {
      "text/plain": [
       "0.2653698707936959"
      ]
     },
     "execution_count": 19,
     "metadata": {},
     "output_type": "execute_result"
    }
   ],
   "source": [
    "baseline_percentage_yes = (telco.churn == \"Yes\").mean()\n",
    "baseline_percentage_yes"
   ]
  },
  {
   "cell_type": "code",
   "execution_count": 20,
   "id": "5d192a20-606b-46c2-a823-643ecdbdae48",
   "metadata": {
    "tags": []
   },
   "outputs": [
    {
     "data": {
      "text/html": [
       "<style>#sk-container-id-1 {color: black;}#sk-container-id-1 pre{padding: 0;}#sk-container-id-1 div.sk-toggleable {background-color: white;}#sk-container-id-1 label.sk-toggleable__label {cursor: pointer;display: block;width: 100%;margin-bottom: 0;padding: 0.3em;box-sizing: border-box;text-align: center;}#sk-container-id-1 label.sk-toggleable__label-arrow:before {content: \"▸\";float: left;margin-right: 0.25em;color: #696969;}#sk-container-id-1 label.sk-toggleable__label-arrow:hover:before {color: black;}#sk-container-id-1 div.sk-estimator:hover label.sk-toggleable__label-arrow:before {color: black;}#sk-container-id-1 div.sk-toggleable__content {max-height: 0;max-width: 0;overflow: hidden;text-align: left;background-color: #f0f8ff;}#sk-container-id-1 div.sk-toggleable__content pre {margin: 0.2em;color: black;border-radius: 0.25em;background-color: #f0f8ff;}#sk-container-id-1 input.sk-toggleable__control:checked~div.sk-toggleable__content {max-height: 200px;max-width: 100%;overflow: auto;}#sk-container-id-1 input.sk-toggleable__control:checked~label.sk-toggleable__label-arrow:before {content: \"▾\";}#sk-container-id-1 div.sk-estimator input.sk-toggleable__control:checked~label.sk-toggleable__label {background-color: #d4ebff;}#sk-container-id-1 div.sk-label input.sk-toggleable__control:checked~label.sk-toggleable__label {background-color: #d4ebff;}#sk-container-id-1 input.sk-hidden--visually {border: 0;clip: rect(1px 1px 1px 1px);clip: rect(1px, 1px, 1px, 1px);height: 1px;margin: -1px;overflow: hidden;padding: 0;position: absolute;width: 1px;}#sk-container-id-1 div.sk-estimator {font-family: monospace;background-color: #f0f8ff;border: 1px dotted black;border-radius: 0.25em;box-sizing: border-box;margin-bottom: 0.5em;}#sk-container-id-1 div.sk-estimator:hover {background-color: #d4ebff;}#sk-container-id-1 div.sk-parallel-item::after {content: \"\";width: 100%;border-bottom: 1px solid gray;flex-grow: 1;}#sk-container-id-1 div.sk-label:hover label.sk-toggleable__label {background-color: #d4ebff;}#sk-container-id-1 div.sk-serial::before {content: \"\";position: absolute;border-left: 1px solid gray;box-sizing: border-box;top: 0;bottom: 0;left: 50%;z-index: 0;}#sk-container-id-1 div.sk-serial {display: flex;flex-direction: column;align-items: center;background-color: white;padding-right: 0.2em;padding-left: 0.2em;position: relative;}#sk-container-id-1 div.sk-item {position: relative;z-index: 1;}#sk-container-id-1 div.sk-parallel {display: flex;align-items: stretch;justify-content: center;background-color: white;position: relative;}#sk-container-id-1 div.sk-item::before, #sk-container-id-1 div.sk-parallel-item::before {content: \"\";position: absolute;border-left: 1px solid gray;box-sizing: border-box;top: 0;bottom: 0;left: 50%;z-index: -1;}#sk-container-id-1 div.sk-parallel-item {display: flex;flex-direction: column;z-index: 1;position: relative;background-color: white;}#sk-container-id-1 div.sk-parallel-item:first-child::after {align-self: flex-end;width: 50%;}#sk-container-id-1 div.sk-parallel-item:last-child::after {align-self: flex-start;width: 50%;}#sk-container-id-1 div.sk-parallel-item:only-child::after {width: 0;}#sk-container-id-1 div.sk-dashed-wrapped {border: 1px dashed gray;margin: 0 0.4em 0.5em 0.4em;box-sizing: border-box;padding-bottom: 0.4em;background-color: white;}#sk-container-id-1 div.sk-label label {font-family: monospace;font-weight: bold;display: inline-block;line-height: 1.2em;}#sk-container-id-1 div.sk-label-container {text-align: center;}#sk-container-id-1 div.sk-container {/* jupyter's `normalize.less` sets `[hidden] { display: none; }` but bootstrap.min.css set `[hidden] { display: none !important; }` so we also need the `!important` here to be able to override the default hidden behavior on the sphinx rendered scikit-learn.org. See: https://github.com/scikit-learn/scikit-learn/issues/21755 */display: inline-block !important;position: relative;}#sk-container-id-1 div.sk-text-repr-fallback {display: none;}</style><div id=\"sk-container-id-1\" class=\"sk-top-container\"><div class=\"sk-text-repr-fallback\"><pre>DecisionTreeClassifier()</pre><b>In a Jupyter environment, please rerun this cell to show the HTML representation or trust the notebook. <br />On GitHub, the HTML representation is unable to render, please try loading this page with nbviewer.org.</b></div><div class=\"sk-container\" hidden><div class=\"sk-item\"><div class=\"sk-estimator sk-toggleable\"><input class=\"sk-toggleable__control sk-hidden--visually\" id=\"sk-estimator-id-1\" type=\"checkbox\" checked><label for=\"sk-estimator-id-1\" class=\"sk-toggleable__label sk-toggleable__label-arrow\">DecisionTreeClassifier</label><div class=\"sk-toggleable__content\"><pre>DecisionTreeClassifier()</pre></div></div></div></div></div>"
      ],
      "text/plain": [
       "DecisionTreeClassifier()"
      ]
     },
     "execution_count": 20,
     "metadata": {},
     "output_type": "execute_result"
    }
   ],
   "source": [
    "telco_tree = DecisionTreeClassifier()\n",
    "telco_tree"
   ]
  },
  {
   "cell_type": "code",
   "execution_count": 21,
   "id": "bc4694d8-f9f5-4a4a-bc5f-a275b0187e72",
   "metadata": {
    "tags": []
   },
   "outputs": [
    {
     "data": {
      "text/html": [
       "<style>#sk-container-id-2 {color: black;}#sk-container-id-2 pre{padding: 0;}#sk-container-id-2 div.sk-toggleable {background-color: white;}#sk-container-id-2 label.sk-toggleable__label {cursor: pointer;display: block;width: 100%;margin-bottom: 0;padding: 0.3em;box-sizing: border-box;text-align: center;}#sk-container-id-2 label.sk-toggleable__label-arrow:before {content: \"▸\";float: left;margin-right: 0.25em;color: #696969;}#sk-container-id-2 label.sk-toggleable__label-arrow:hover:before {color: black;}#sk-container-id-2 div.sk-estimator:hover label.sk-toggleable__label-arrow:before {color: black;}#sk-container-id-2 div.sk-toggleable__content {max-height: 0;max-width: 0;overflow: hidden;text-align: left;background-color: #f0f8ff;}#sk-container-id-2 div.sk-toggleable__content pre {margin: 0.2em;color: black;border-radius: 0.25em;background-color: #f0f8ff;}#sk-container-id-2 input.sk-toggleable__control:checked~div.sk-toggleable__content {max-height: 200px;max-width: 100%;overflow: auto;}#sk-container-id-2 input.sk-toggleable__control:checked~label.sk-toggleable__label-arrow:before {content: \"▾\";}#sk-container-id-2 div.sk-estimator input.sk-toggleable__control:checked~label.sk-toggleable__label {background-color: #d4ebff;}#sk-container-id-2 div.sk-label input.sk-toggleable__control:checked~label.sk-toggleable__label {background-color: #d4ebff;}#sk-container-id-2 input.sk-hidden--visually {border: 0;clip: rect(1px 1px 1px 1px);clip: rect(1px, 1px, 1px, 1px);height: 1px;margin: -1px;overflow: hidden;padding: 0;position: absolute;width: 1px;}#sk-container-id-2 div.sk-estimator {font-family: monospace;background-color: #f0f8ff;border: 1px dotted black;border-radius: 0.25em;box-sizing: border-box;margin-bottom: 0.5em;}#sk-container-id-2 div.sk-estimator:hover {background-color: #d4ebff;}#sk-container-id-2 div.sk-parallel-item::after {content: \"\";width: 100%;border-bottom: 1px solid gray;flex-grow: 1;}#sk-container-id-2 div.sk-label:hover label.sk-toggleable__label {background-color: #d4ebff;}#sk-container-id-2 div.sk-serial::before {content: \"\";position: absolute;border-left: 1px solid gray;box-sizing: border-box;top: 0;bottom: 0;left: 50%;z-index: 0;}#sk-container-id-2 div.sk-serial {display: flex;flex-direction: column;align-items: center;background-color: white;padding-right: 0.2em;padding-left: 0.2em;position: relative;}#sk-container-id-2 div.sk-item {position: relative;z-index: 1;}#sk-container-id-2 div.sk-parallel {display: flex;align-items: stretch;justify-content: center;background-color: white;position: relative;}#sk-container-id-2 div.sk-item::before, #sk-container-id-2 div.sk-parallel-item::before {content: \"\";position: absolute;border-left: 1px solid gray;box-sizing: border-box;top: 0;bottom: 0;left: 50%;z-index: -1;}#sk-container-id-2 div.sk-parallel-item {display: flex;flex-direction: column;z-index: 1;position: relative;background-color: white;}#sk-container-id-2 div.sk-parallel-item:first-child::after {align-self: flex-end;width: 50%;}#sk-container-id-2 div.sk-parallel-item:last-child::after {align-self: flex-start;width: 50%;}#sk-container-id-2 div.sk-parallel-item:only-child::after {width: 0;}#sk-container-id-2 div.sk-dashed-wrapped {border: 1px dashed gray;margin: 0 0.4em 0.5em 0.4em;box-sizing: border-box;padding-bottom: 0.4em;background-color: white;}#sk-container-id-2 div.sk-label label {font-family: monospace;font-weight: bold;display: inline-block;line-height: 1.2em;}#sk-container-id-2 div.sk-label-container {text-align: center;}#sk-container-id-2 div.sk-container {/* jupyter's `normalize.less` sets `[hidden] { display: none; }` but bootstrap.min.css set `[hidden] { display: none !important; }` so we also need the `!important` here to be able to override the default hidden behavior on the sphinx rendered scikit-learn.org. See: https://github.com/scikit-learn/scikit-learn/issues/21755 */display: inline-block !important;position: relative;}#sk-container-id-2 div.sk-text-repr-fallback {display: none;}</style><div id=\"sk-container-id-2\" class=\"sk-top-container\"><div class=\"sk-text-repr-fallback\"><pre>DecisionTreeClassifier()</pre><b>In a Jupyter environment, please rerun this cell to show the HTML representation or trust the notebook. <br />On GitHub, the HTML representation is unable to render, please try loading this page with nbviewer.org.</b></div><div class=\"sk-container\" hidden><div class=\"sk-item\"><div class=\"sk-estimator sk-toggleable\"><input class=\"sk-toggleable__control sk-hidden--visually\" id=\"sk-estimator-id-2\" type=\"checkbox\" checked><label for=\"sk-estimator-id-2\" class=\"sk-toggleable__label sk-toggleable__label-arrow\">DecisionTreeClassifier</label><div class=\"sk-toggleable__content\"><pre>DecisionTreeClassifier()</pre></div></div></div></div></div>"
      ],
      "text/plain": [
       "DecisionTreeClassifier()"
      ]
     },
     "execution_count": 21,
     "metadata": {},
     "output_type": "execute_result"
    }
   ],
   "source": [
    "telco_tree.fit(X_train, y_train)"
   ]
  },
  {
   "cell_type": "code",
   "execution_count": 22,
   "id": "09ccccb4-480e-4fc3-b858-a7a7d7eb3fb3",
   "metadata": {
    "tags": []
   },
   "outputs": [
    {
     "data": {
      "text/html": [
       "<div>\n",
       "<style scoped>\n",
       "    .dataframe tbody tr th:only-of-type {\n",
       "        vertical-align: middle;\n",
       "    }\n",
       "\n",
       "    .dataframe tbody tr th {\n",
       "        vertical-align: top;\n",
       "    }\n",
       "\n",
       "    .dataframe thead th {\n",
       "        text-align: right;\n",
       "    }\n",
       "</style>\n",
       "<table border=\"1\" class=\"dataframe\">\n",
       "  <thead>\n",
       "    <tr style=\"text-align: right;\">\n",
       "      <th></th>\n",
       "      <th>senior_citizen</th>\n",
       "      <th>tenure</th>\n",
       "      <th>monthly_charges</th>\n",
       "      <th>total_charges</th>\n",
       "      <th>gender_Male</th>\n",
       "      <th>partner_Yes</th>\n",
       "      <th>dependents_Yes</th>\n",
       "      <th>phone_service_Yes</th>\n",
       "      <th>multiple_lines_No phone service</th>\n",
       "      <th>multiple_lines_Yes</th>\n",
       "      <th>...</th>\n",
       "      <th>streaming_movies_No internet service</th>\n",
       "      <th>streaming_movies_Yes</th>\n",
       "      <th>paperless_billing_Yes</th>\n",
       "      <th>contract_type_One year</th>\n",
       "      <th>contract_type_Two year</th>\n",
       "      <th>internet_service_type_Fiber optic</th>\n",
       "      <th>internet_service_type_None</th>\n",
       "      <th>payment_type_Credit card (automatic)</th>\n",
       "      <th>payment_type_Electronic check</th>\n",
       "      <th>payment_type_Mailed check</th>\n",
       "    </tr>\n",
       "  </thead>\n",
       "  <tbody>\n",
       "    <tr>\n",
       "      <th>6201</th>\n",
       "      <td>0</td>\n",
       "      <td>9</td>\n",
       "      <td>44</td>\n",
       "      <td>403.35</td>\n",
       "      <td>0</td>\n",
       "      <td>0</td>\n",
       "      <td>0</td>\n",
       "      <td>1</td>\n",
       "      <td>0</td>\n",
       "      <td>0</td>\n",
       "      <td>...</td>\n",
       "      <td>0</td>\n",
       "      <td>0</td>\n",
       "      <td>1</td>\n",
       "      <td>0</td>\n",
       "      <td>0</td>\n",
       "      <td>0</td>\n",
       "      <td>0</td>\n",
       "      <td>0</td>\n",
       "      <td>0</td>\n",
       "      <td>0</td>\n",
       "    </tr>\n",
       "    <tr>\n",
       "      <th>219</th>\n",
       "      <td>0</td>\n",
       "      <td>72</td>\n",
       "      <td>61</td>\n",
       "      <td>4390.25</td>\n",
       "      <td>1</td>\n",
       "      <td>0</td>\n",
       "      <td>0</td>\n",
       "      <td>0</td>\n",
       "      <td>1</td>\n",
       "      <td>0</td>\n",
       "      <td>...</td>\n",
       "      <td>0</td>\n",
       "      <td>1</td>\n",
       "      <td>1</td>\n",
       "      <td>0</td>\n",
       "      <td>1</td>\n",
       "      <td>0</td>\n",
       "      <td>0</td>\n",
       "      <td>1</td>\n",
       "      <td>0</td>\n",
       "      <td>0</td>\n",
       "    </tr>\n",
       "    <tr>\n",
       "      <th>952</th>\n",
       "      <td>0</td>\n",
       "      <td>7</td>\n",
       "      <td>20</td>\n",
       "      <td>164.85</td>\n",
       "      <td>0</td>\n",
       "      <td>0</td>\n",
       "      <td>0</td>\n",
       "      <td>1</td>\n",
       "      <td>0</td>\n",
       "      <td>0</td>\n",
       "      <td>...</td>\n",
       "      <td>1</td>\n",
       "      <td>0</td>\n",
       "      <td>0</td>\n",
       "      <td>0</td>\n",
       "      <td>0</td>\n",
       "      <td>0</td>\n",
       "      <td>1</td>\n",
       "      <td>0</td>\n",
       "      <td>0</td>\n",
       "      <td>1</td>\n",
       "    </tr>\n",
       "    <tr>\n",
       "      <th>198</th>\n",
       "      <td>0</td>\n",
       "      <td>26</td>\n",
       "      <td>88</td>\n",
       "      <td>2274.35</td>\n",
       "      <td>0</td>\n",
       "      <td>0</td>\n",
       "      <td>0</td>\n",
       "      <td>1</td>\n",
       "      <td>0</td>\n",
       "      <td>0</td>\n",
       "      <td>...</td>\n",
       "      <td>0</td>\n",
       "      <td>1</td>\n",
       "      <td>1</td>\n",
       "      <td>0</td>\n",
       "      <td>0</td>\n",
       "      <td>1</td>\n",
       "      <td>0</td>\n",
       "      <td>0</td>\n",
       "      <td>0</td>\n",
       "      <td>0</td>\n",
       "    </tr>\n",
       "    <tr>\n",
       "      <th>2544</th>\n",
       "      <td>0</td>\n",
       "      <td>31</td>\n",
       "      <td>89</td>\n",
       "      <td>2806.9</td>\n",
       "      <td>0</td>\n",
       "      <td>0</td>\n",
       "      <td>0</td>\n",
       "      <td>1</td>\n",
       "      <td>0</td>\n",
       "      <td>1</td>\n",
       "      <td>...</td>\n",
       "      <td>0</td>\n",
       "      <td>1</td>\n",
       "      <td>1</td>\n",
       "      <td>0</td>\n",
       "      <td>0</td>\n",
       "      <td>1</td>\n",
       "      <td>0</td>\n",
       "      <td>0</td>\n",
       "      <td>1</td>\n",
       "      <td>0</td>\n",
       "    </tr>\n",
       "  </tbody>\n",
       "</table>\n",
       "<p>5 rows × 30 columns</p>\n",
       "</div>"
      ],
      "text/plain": [
       "      senior_citizen  tenure  monthly_charges total_charges  gender_Male  \\\n",
       "6201               0       9               44        403.35            0   \n",
       "219                0      72               61       4390.25            1   \n",
       "952                0       7               20        164.85            0   \n",
       "198                0      26               88       2274.35            0   \n",
       "2544               0      31               89        2806.9            0   \n",
       "\n",
       "      partner_Yes  dependents_Yes  phone_service_Yes  \\\n",
       "6201            0               0                  1   \n",
       "219             0               0                  0   \n",
       "952             0               0                  1   \n",
       "198             0               0                  1   \n",
       "2544            0               0                  1   \n",
       "\n",
       "      multiple_lines_No phone service  multiple_lines_Yes  ...  \\\n",
       "6201                                0                   0  ...   \n",
       "219                                 1                   0  ...   \n",
       "952                                 0                   0  ...   \n",
       "198                                 0                   0  ...   \n",
       "2544                                0                   1  ...   \n",
       "\n",
       "      streaming_movies_No internet service  streaming_movies_Yes  \\\n",
       "6201                                     0                     0   \n",
       "219                                      0                     1   \n",
       "952                                      1                     0   \n",
       "198                                      0                     1   \n",
       "2544                                     0                     1   \n",
       "\n",
       "      paperless_billing_Yes  contract_type_One year  contract_type_Two year  \\\n",
       "6201                      1                       0                       0   \n",
       "219                       1                       0                       1   \n",
       "952                       0                       0                       0   \n",
       "198                       1                       0                       0   \n",
       "2544                      1                       0                       0   \n",
       "\n",
       "      internet_service_type_Fiber optic  internet_service_type_None  \\\n",
       "6201                                  0                           0   \n",
       "219                                   0                           0   \n",
       "952                                   0                           1   \n",
       "198                                   1                           0   \n",
       "2544                                  1                           0   \n",
       "\n",
       "      payment_type_Credit card (automatic)  payment_type_Electronic check  \\\n",
       "6201                                     0                              0   \n",
       "219                                      1                              0   \n",
       "952                                      0                              0   \n",
       "198                                      0                              0   \n",
       "2544                                     0                              1   \n",
       "\n",
       "      payment_type_Mailed check  \n",
       "6201                          0  \n",
       "219                           0  \n",
       "952                           1  \n",
       "198                           0  \n",
       "2544                          0  \n",
       "\n",
       "[5 rows x 30 columns]"
      ]
     },
     "execution_count": 22,
     "metadata": {},
     "output_type": "execute_result"
    }
   ],
   "source": [
    "X_train.head()"
   ]
  },
  {
   "cell_type": "code",
   "execution_count": 23,
   "id": "bc3dba3d-0000-4e6e-85d8-489c4c5b092d",
   "metadata": {
    "tags": []
   },
   "outputs": [
    {
     "data": {
      "text/plain": [
       "array([1, 0, 1, 1, 1, 0, 0, 0, 0, 0])"
      ]
     },
     "execution_count": 23,
     "metadata": {},
     "output_type": "execute_result"
    }
   ],
   "source": [
    "y_pred = telco_tree.predict(X_train)\n",
    "y_pred[:10]"
   ]
  },
  {
   "cell_type": "code",
   "execution_count": 24,
   "id": "7700df46-6b5f-41cc-8abe-1ea1f8b9ba00",
   "metadata": {
    "tags": []
   },
   "outputs": [
    {
     "data": {
      "text/plain": [
       "0.9990532544378699"
      ]
     },
     "execution_count": 24,
     "metadata": {},
     "output_type": "execute_result"
    }
   ],
   "source": [
    "telco_tree.score(X_train, y_train)"
   ]
  },
  {
   "cell_type": "code",
   "execution_count": 25,
   "id": "bb78ece2-0431-49f3-8979-95d47b31a560",
   "metadata": {
    "tags": []
   },
   "outputs": [
    {
     "data": {
      "text/html": [
       "<div>\n",
       "<style scoped>\n",
       "    .dataframe tbody tr th:only-of-type {\n",
       "        vertical-align: middle;\n",
       "    }\n",
       "\n",
       "    .dataframe tbody tr th {\n",
       "        vertical-align: top;\n",
       "    }\n",
       "\n",
       "    .dataframe thead th {\n",
       "        text-align: right;\n",
       "    }\n",
       "</style>\n",
       "<table border=\"1\" class=\"dataframe\">\n",
       "  <thead>\n",
       "    <tr style=\"text-align: right;\">\n",
       "      <th>col_0</th>\n",
       "      <th>0</th>\n",
       "      <th>1</th>\n",
       "    </tr>\n",
       "    <tr>\n",
       "      <th>churn_Yes</th>\n",
       "      <th></th>\n",
       "      <th></th>\n",
       "    </tr>\n",
       "  </thead>\n",
       "  <tbody>\n",
       "    <tr>\n",
       "      <th>0</th>\n",
       "      <td>3104</td>\n",
       "      <td>0</td>\n",
       "    </tr>\n",
       "    <tr>\n",
       "      <th>1</th>\n",
       "      <td>4</td>\n",
       "      <td>1117</td>\n",
       "    </tr>\n",
       "  </tbody>\n",
       "</table>\n",
       "</div>"
      ],
      "text/plain": [
       "col_0         0     1\n",
       "churn_Yes            \n",
       "0          3104     0\n",
       "1             4  1117"
      ]
     },
     "execution_count": 25,
     "metadata": {},
     "output_type": "execute_result"
    }
   ],
   "source": [
    "pd.crosstab(y_train, y_pred)"
   ]
  },
  {
   "cell_type": "code",
   "execution_count": null,
   "id": "693dabb7-ec18-4e89-b52f-4456b193c0a6",
   "metadata": {},
   "outputs": [],
   "source": []
  },
  {
   "cell_type": "code",
   "execution_count": null,
   "id": "a7c9c08d-8eab-42ef-bd90-4c69c583c01b",
   "metadata": {},
   "outputs": [],
   "source": []
  },
  {
   "cell_type": "code",
   "execution_count": null,
   "id": "e45d470a-6d79-4b1f-bbae-1d9a8296225a",
   "metadata": {},
   "outputs": [],
   "source": []
  },
  {
   "cell_type": "code",
   "execution_count": null,
   "id": "cd575829-b067-46c8-977d-59c764992ce7",
   "metadata": {},
   "outputs": [],
   "source": []
  }
 ],
 "metadata": {
  "kernelspec": {
   "display_name": "Python 3 (ipykernel)",
   "language": "python",
   "name": "python3"
  },
  "language_info": {
   "codemirror_mode": {
    "name": "ipython",
    "version": 3
   },
   "file_extension": ".py",
   "mimetype": "text/x-python",
   "name": "python",
   "nbconvert_exporter": "python",
   "pygments_lexer": "ipython3",
   "version": "3.11.5"
  }
 },
 "nbformat": 4,
 "nbformat_minor": 5
}
