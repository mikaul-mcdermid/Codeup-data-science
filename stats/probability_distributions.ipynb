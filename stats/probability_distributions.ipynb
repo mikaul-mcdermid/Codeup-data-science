{
 "cells": [
  {
   "cell_type": "code",
   "execution_count": 64,
   "id": "be9fa50f-494b-4271-8c2b-7e728df738b0",
   "metadata": {
    "tags": []
   },
   "outputs": [],
   "source": [
    "import numpy as np\n",
    "import matplotlib.pyplot as plt\n",
    "import scipy.stats as stats\n",
    "from scipy.stats import poisson\n",
    "from scipy.stats import binom\n",
    "from scipy.stats import norm"
   ]
  },
  {
   "cell_type": "code",
   "execution_count": 16,
   "id": "39f9ae09-5bcc-4cf2-ae34-0e3498b0c4c2",
   "metadata": {
    "tags": []
   },
   "outputs": [
    {
     "data": {
      "image/png": "[encoded data removed]",
      "text/plain": [
       "<Figure size 640x480 with 1 Axes>"
      ]
     },
     "metadata": {},
     "output_type": "display_data"
    },
    {
     "name": "stdout",
     "output_type": "stream",
     "text": [
      "Probability that no cars drive up: 0.1353\n",
      "Probability that 3 or more cars come through: 0.3233\n",
      "Probability that the drive-through gets at least 1 car: 0.8647\n"
     ]
    }
   ],
   "source": [
    "# A bank found that the average number of cars waiting during the noon hour at a drive-up window follows a \n",
    "# Poisson distribution with a mean of 2 cars. Make a chart of this distribution and answer these questions \n",
    "# concerning the probability of cars waiting at the drive-up window.\n",
    "\n",
    "# What is the probability that no cars drive up in the noon hour?\n",
    "# What is the probability that 3 or more cars come through the drive through?\n",
    "# How likely is it that the drive through gets at least 1 car?\n",
    "\n",
    "# Define the mean for the Poisson distribution\n",
    "mean_cars = 2\n",
    "\n",
    "# Create an array of possible numbers of cars (assuming a reasonable range)\n",
    "num_cars = np.arange(0,10)\n",
    "\n",
    "# Calculate the Poisson probability mass function (pmf) for each number of cars\n",
    "pmf_values = poisson.pmf(num_cars, mu=mean_cars)\n",
    "\n",
    "# Create a bar chart\n",
    "plt.bar(num_cars, pmf_values, color='goldenrod', edgecolor='lime')\n",
    "\n",
    "# Add labels and title\n",
    "plt.title('Poisson Distribution - Cars at Drive-up Window')\n",
    "plt.xlabel('Number of Cars')\n",
    "plt.ylabel('Probability')\n",
    "\n",
    "# Display the chart\n",
    "plt.show()\n",
    "\n",
    "# Calculate probabilities for specific scenarios\n",
    "prob_no_cars = poisson.pmf(0, mu=mean_cars)\n",
    "prob_3_or_more_cars = 1 - poisson.cdf(2, mu=mean_cars)  # 1 minus cumulative probability for 2 or fewer cars\n",
    "prob_at_least_1_car = 1 - poisson.pmf(0, mu=mean_cars)\n",
    "\n",
    "# Display the calculated probabilities\n",
    "print(f\"Probability that no cars drive up: {prob_no_cars:.4f}\")\n",
    "print(f\"Probability that 3 or more cars come through: {prob_3_or_more_cars:.4f}\")\n",
    "print(f\"Probability that the drive-through gets at least 1 car: {prob_at_least_1_car:.4f}\")\n"
   ]
  },
  {
   "cell_type": "code",
   "execution_count": 10,
   "id": "28ab0d9d-33a2-4de0-9811-23a1d059ac47",
   "metadata": {
    "tags": []
   },
   "outputs": [
    {
     "name": "stdout",
     "output_type": "stream",
     "text": [
      "a. GPA required to be in the top 5%: 3.49\n",
      "b. GPA constituting the bottom 15%: 2.69\n",
      "c. Range of the third decile: 2.75 to 2.84\n",
      "d. Percentile for GPA of 3.5: 95.22%\n"
     ]
    }
   ],
   "source": [
    "# Grades of State University graduates are normally distributed with a mean of 3.0 and a standard deviation of .3. Calculate the following:\n",
    "\n",
    "# What grade point average is required to be in the top 5% of the graduating class?\n",
    "# What GPA constitutes the bottom 15% of the class?\n",
    "# An eccentric alumnus left scholarship money for students in the third decile from the bottom of their class. \n",
    "# Determine the range of the third decile. Would a student with a 2.8 grade point average qualify for this \n",
    "# scholarship?\n",
    "# If I have a GPA of 3.5, what percentile am I in?\n",
    "\n",
    "# Given parameters\n",
    "mean_gpa = 3.0\n",
    "std_dev_gpa = 0.3\n",
    "\n",
    "# Function to calculate percentile from z-score\n",
    "def percentile_from_z_score(z_score):\n",
    "    return stats.norm.cdf(z_score)\n",
    "\n",
    "# Function to calculate z-score from percentile\n",
    "def z_score_from_percentile(percentile):\n",
    "    return stats.norm.ppf(percentile)\n",
    "\n",
    "# Calculate GPA required to be in the top 5%\n",
    "top_5_percentile_gpa = z_score_from_percentile(0.95) * std_dev_gpa + mean_gpa\n",
    "\n",
    "# Calculate GPA for the bottom 15%\n",
    "bottom_15_percentile_gpa = z_score_from_percentile(0.15) * std_dev_gpa + mean_gpa\n",
    "\n",
    "# Calculate the range for the third decile\n",
    "third_decile_bottom = z_score_from_percentile(0.2) * std_dev_gpa + mean_gpa\n",
    "third_decile_top = z_score_from_percentile(0.3) * std_dev_gpa + mean_gpa\n",
    "\n",
    "# Determine the percentile for GPA of 3.5\n",
    "percentile_3_5 = percentile_from_z_score((3.5 - mean_gpa) / std_dev_gpa)\n",
    "\n",
    "# Display the results\n",
    "print(f\"a. GPA required to be in the top 5%: {top_5_percentile_gpa:.2f}\")\n",
    "print(f\"b. GPA constituting the bottom 15%: {bottom_15_percentile_gpa:.2f}\")\n",
    "print(f\"c. Range of the third decile: {third_decile_bottom:.2f} to {third_decile_top:.2f}\")\n",
    "print(f\"d. Percentile for GPA of 3.5: {percentile_3_5:.2%}\")\n"
   ]
  },
  {
   "cell_type": "code",
   "execution_count": 32,
   "id": "1b0de090-04b1-4b95-bebe-1d7201c65b33",
   "metadata": {
    "tags": []
   },
   "outputs": [
    {
     "data": {
      "text/plain": [
       "3.4934560880854417"
      ]
     },
     "execution_count": 32,
     "metadata": {},
     "output_type": "execute_result"
    }
   ],
   "source": [
    "#make distribution\n",
    "#it specifies normal distribution and we know mean of 3.0 and dev of 0.3\n",
    "μ = 3.0\n",
    "σ = 0.3\n",
    "grades_dist = stats.norm(μ,σ)\n",
    "# what gpa to be in top 5%? count from the right side and use inverse survival\n",
    "grades_dist.isf(0.05)\n",
    "# or the right side\n",
    "# grades_dist.ppf(0.95) count from the left and do ppf"
   ]
  },
  {
   "cell_type": "code",
   "execution_count": 34,
   "id": "03646852-5626-4e38-9b48-f401d2c4aa6b",
   "metadata": {
    "tags": []
   },
   "outputs": [
    {
     "data": {
      "text/plain": [
       "2.69"
      ]
     },
     "execution_count": 34,
     "metadata": {},
     "output_type": "execute_result"
    }
   ],
   "source": [
    "# bottom 15%\n",
    "round(grades_dist.ppf(0.15),2)"
   ]
  },
  {
   "cell_type": "code",
   "execution_count": 35,
   "id": "798dd9a5-e581-4b18-9e19-d25c5d419390",
   "metadata": {
    "tags": []
   },
   "outputs": [
    {
     "data": {
      "text/plain": [
       "2.7475136299281258"
      ]
     },
     "execution_count": 35,
     "metadata": {},
     "output_type": "execute_result"
    }
   ],
   "source": [
    "grades_dist.ppf(0.2)"
   ]
  },
  {
   "cell_type": "code",
   "execution_count": 36,
   "id": "b948de36-db07-43af-a2b5-84d584995be0",
   "metadata": {
    "tags": []
   },
   "outputs": [
    {
     "data": {
      "text/plain": [
       "2.842679846187588"
      ]
     },
     "execution_count": 36,
     "metadata": {},
     "output_type": "execute_result"
    }
   ],
   "source": [
    "grades_dist.ppf(0.3)"
   ]
  },
  {
   "cell_type": "code",
   "execution_count": 38,
   "id": "7701fa9f-f696-4aeb-be96-01055578f9c1",
   "metadata": {
    "tags": []
   },
   "outputs": [
    {
     "data": {
      "text/plain": [
       "(2.7475136299281258, 2.842679846187588)"
      ]
     },
     "execution_count": 38,
     "metadata": {},
     "output_type": "execute_result"
    }
   ],
   "source": [
    "lower_fence, upper_fence = grades_dist.ppf([0.2,0.3])\n",
    "lower_fence, upper_fence"
   ]
  },
  {
   "cell_type": "code",
   "execution_count": 39,
   "id": "8df41fe4-475e-4d5c-8cde-6dc12bf1e83b",
   "metadata": {
    "tags": []
   },
   "outputs": [
    {
     "data": {
      "text/plain": [
       "True"
      ]
     },
     "execution_count": 39,
     "metadata": {},
     "output_type": "execute_result"
    }
   ],
   "source": [
    "candidate_grade = 2.8\n",
    "lower_fence < candidate_grade < upper_fence"
   ]
  },
  {
   "cell_type": "code",
   "execution_count": 40,
   "id": "80f1926c-2d53-4b89-b239-426e2caab7fa",
   "metadata": {
    "tags": []
   },
   "outputs": [
    {
     "data": {
      "text/plain": [
       "0.9522096477271853"
      ]
     },
     "execution_count": 40,
     "metadata": {},
     "output_type": "execute_result"
    }
   ],
   "source": [
    "grades_dist.cdf(3.5) #from the left side"
   ]
  },
  {
   "cell_type": "code",
   "execution_count": 42,
   "id": "8e9dd37a-c160-48de-b53d-8e53acdaf14f",
   "metadata": {
    "tags": []
   },
   "outputs": [
    {
     "data": {
      "text/plain": [
       "0.05"
      ]
     },
     "execution_count": 42,
     "metadata": {},
     "output_type": "execute_result"
    }
   ],
   "source": [
    "# or\n",
    "round(grades_dist.sf(3.5),2) #from the right side"
   ]
  },
  {
   "cell_type": "code",
   "execution_count": 6,
   "id": "0bb02d1e-1037-486b-95ec-60ae73575d57",
   "metadata": {
    "tags": []
   },
   "outputs": [
    {
     "name": "stdout",
     "output_type": "stream",
     "text": [
      "The probability of observing 97 or more click-throughs is approximately: 0.1398\n"
     ]
    }
   ],
   "source": [
    "# A marketing website has an average click-through rate of 2%. One day they observe 4326 visitors and 97 \n",
    "# click-throughs. How likely is it that this many people or more click through?\n",
    "# Given parameters\n",
    "total_visitors = 4326\n",
    "observed_clicks = 97\n",
    "click_through_rate = 0.02  # 2%\n",
    "\n",
    "# Calculate the probability of 97 or more click-throughs\n",
    "prob_97_or_more_clicks = 1 - binom.cdf(observed_clicks - 1, total_visitors, click_through_rate)\n",
    "\n",
    "# Display the result\n",
    "print(f\"The probability of observing 97 or more click-throughs is approximately: {prob_97_or_more_clicks:.4f}\")\n"
   ]
  },
  {
   "cell_type": "code",
   "execution_count": 43,
   "id": "17807029-6c56-4732-867d-a843c63346a7",
   "metadata": {
    "tags": []
   },
   "outputs": [
    {
     "data": {
      "text/plain": [
       "0.14"
      ]
     },
     "execution_count": 43,
     "metadata": {},
     "output_type": "execute_result"
    }
   ],
   "source": [
    "# what type of dist? binomial cause there is a do or not do option\n",
    "# click-thru rate:\n",
    "#rate of success: 0.02 (p)\n",
    "# trails: 4326 (n)\n",
    "# 97 or more clickthrus: survival function!\n",
    "\n",
    "clicks_dist = stats.binom(4326, 0.02)\n",
    "round(clicks_dist.sf(96),2) #non inclusive, goes to the next number, "
   ]
  },
  {
   "cell_type": "code",
   "execution_count": 45,
   "id": "e214797f-6d38-4526-8bb2-667624aa28a0",
   "metadata": {
    "tags": []
   },
   "outputs": [],
   "source": [
    "# in case you want to use Poisson dis, we can use:\n",
    "# lambda: probability of success over that specific window\n",
    "# lambda = 0.02 * 4326"
   ]
  },
  {
   "cell_type": "code",
   "execution_count": 7,
   "id": "ec638371-c8b8-4290-91af-0cbca2fc8cf9",
   "metadata": {
    "tags": []
   },
   "outputs": [
    {
     "name": "stdout",
     "output_type": "stream",
     "text": [
      "The probability of getting at least one correct answer in the first 60 questions is approximately: 0.4528\n"
     ]
    }
   ],
   "source": [
    "# You are working on some statistics homework consisting of 100 questions where all of the answers are a \n",
    "# probability rounded to the hundreths place. Looking to save time, you put down random probabilities as the \n",
    "# answer to each question.\n",
    "\n",
    "# What is the probability that at least one of your first 60 answers is correct?\n",
    "# Given parameters\n",
    "total_questions = 100\n",
    "answered_questions = 60\n",
    "probability_of_wrong_answer = 0.99  # Assuming random guessing, so the probability of getting a question wrong is 1 - probability_of_correct_answer\n",
    "\n",
    "# Calculate the probability of getting at least one correct answer in the first 60 questions\n",
    "probability_at_least_one_correct = 1 - probability_of_wrong_answer ** answered_questions\n",
    "\n",
    "# Display the result\n",
    "print(f\"The probability of getting at least one correct answer in the first 60 questions is approximately: {probability_at_least_one_correct:.4f}\")\n"
   ]
  },
  {
   "cell_type": "code",
   "execution_count": 48,
   "id": "41959042-da90-4555-9d46-e2331a651085",
   "metadata": {
    "tags": []
   },
   "outputs": [
    {
     "data": {
      "text/plain": [
       "0.44955038406224"
      ]
     },
     "execution_count": 48,
     "metadata": {},
     "output_type": "execute_result"
    }
   ],
   "source": [
    "# 100 questions on homework\n",
    "# answers are all probabilities to the 100th place\n",
    "# question: prob that we get at least one out of the first 60 correct\n",
    "prob_success = 1 / 101\n",
    "num_trials = 60 \n",
    "homework_dist = stats.binom(num_trials, prob_success)\n",
    "# survival for any amount over 0\n",
    "homework_dist.sf(0)"
   ]
  },
  {
   "cell_type": "code",
   "execution_count": 8,
   "id": "cb6f8aff-69a6-40d5-ae53-65dce383b4df",
   "metadata": {
    "tags": []
   },
   "outputs": [
    {
     "name": "stdout",
     "output_type": "stream",
     "text": [
      "Probability that the break area gets cleaned up each day: nan\n",
      "Probability that it goes two days without getting cleaned up: nan\n",
      "Probability that it goes all week without getting cleaned up: 0.0001\n"
     ]
    }
   ],
   "source": [
    "# The codeup staff tends to get upset when the student break area is not cleaned up. Suppose that there's a 3% \n",
    "# chance that any one student cleans the break area when they visit it, and, on any given day, about 90% of the \n",
    "# 3 active cohorts of 22 students visit the break area. \n",
    "# How likely is it that the break area gets cleaned up each day? \n",
    "# How likely is it that it goes two days without getting cleaned up? All week?\n",
    "\n",
    "# Given parameters\n",
    "probability_of_cleaning_up = 0.03  # 3%\n",
    "students_per_cohort = 22\n",
    "active_cohorts = 3\n",
    "visiting_probability = 0.9  # 90%\n",
    "days_in_week = 5\n",
    "\n",
    "# Calculate the probability of getting cleaned up each day\n",
    "prob_cleaned_up_each_day = 1 - binom.pmf(0, active_cohorts * students_per_cohort * visiting_probability, probability_of_cleaning_up)\n",
    "\n",
    "# Calculate the probability of going two days without getting cleaned up\n",
    "prob_two_days_without_cleaning = binom.pmf(0, 2 * active_cohorts * students_per_cohort * visiting_probability, probability_of_cleaning_up)\n",
    "\n",
    "# Calculate the probability of going all week without getting cleaned up\n",
    "prob_all_week_without_cleaning = binom.pmf(0, days_in_week * active_cohorts * students_per_cohort * visiting_probability, probability_of_cleaning_up)\n",
    "\n",
    "# Display the results\n",
    "print(f\"Probability that the break area gets cleaned up each day: {prob_cleaned_up_each_day:.4f}\")\n",
    "print(f\"Probability that it goes two days without getting cleaned up: {prob_two_days_without_cleaning:.4f}\")\n",
    "print(f\"Probability that it goes all week without getting cleaned up: {prob_all_week_without_cleaning:.4f}\")\n"
   ]
  },
  {
   "cell_type": "code",
   "execution_count": 51,
   "id": "2d4f2ee4-5654-4a9b-b62a-3ee2cd11edaa",
   "metadata": {
    "tags": []
   },
   "outputs": [
    {
     "data": {
      "text/plain": [
       "59"
      ]
     },
     "execution_count": 51,
     "metadata": {},
     "output_type": "execute_result"
    }
   ],
   "source": [
    "# set up dist\n",
    "# success rate: 3%\n",
    "# number of trials: how many trials: 0.9 * 3 # 22\n",
    "prob_success = 0.03\n",
    "num_trials = int(0.9 * 3 * 22,) # no partial people allowed\n",
    "num_trials"
   ]
  },
  {
   "cell_type": "code",
   "execution_count": 54,
   "id": "0a39be73-0377-492d-93aa-5560e62ec595",
   "metadata": {
    "tags": []
   },
   "outputs": [
    {
     "data": {
      "text/plain": [
       "0.83"
      ]
     },
     "execution_count": 54,
     "metadata": {},
     "output_type": "execute_result"
    }
   ],
   "source": [
    "clean_dist = stats.binom(num_trials, prob_success)\n",
    "round(clean_dist.sf(0),2)"
   ]
  },
  {
   "cell_type": "code",
   "execution_count": 55,
   "id": "7cc4bf68-72f4-4dc0-a2e4-77a96e69fb45",
   "metadata": {
    "tags": []
   },
   "outputs": [
    {
     "data": {
      "text/plain": [
       "0.026658541032798935"
      ]
     },
     "execution_count": 55,
     "metadata": {},
     "output_type": "execute_result"
    }
   ],
   "source": [
    "# second question asks us to change the number of trials\n",
    "stats.binom(((num_trials*2) +1), prob_success).pmf(0) # you add one because the rounded version of the prob_success would be accounting for another person so we add the 1 to adjust to a more accurate number"
   ]
  },
  {
   "cell_type": "code",
   "execution_count": 57,
   "id": "0c263e13-fcc9-4786-a2d7-6cc766d40fb8",
   "metadata": {
    "tags": []
   },
   "outputs": [
    {
     "data": {
      "text/plain": [
       "0.00011781621791054943"
      ]
     },
     "execution_count": 57,
     "metadata": {},
     "output_type": "execute_result"
    }
   ],
   "source": [
    "#all week?\n",
    "num_trials = round((0.9 *3 *22) * 5, 0)\n",
    "clean_dist = stats.binom(num_trials, prob_success)\n",
    "clean_dist.pmf(0)"
   ]
  },
  {
   "cell_type": "code",
   "execution_count": 9,
   "id": "8195536b-8efb-4e54-92eb-3402caa3f91e",
   "metadata": {
    "tags": []
   },
   "outputs": [
    {
     "name": "stdout",
     "output_type": "stream",
     "text": [
      "The probability of having at least 15 minutes left to eat is approximately: 0.0478\n"
     ]
    }
   ],
   "source": [
    "# You want to get lunch at La Panaderia, but notice that the line is usually very long at lunchtime. After \n",
    "# several weeks of careful observation, you notice that the average number of people in line when your lunch \n",
    "# break starts is normally distributed with a mean of 15 and standard deviation of 3. If it takes 2 minutes for \n",
    "# each person to order, and 10 minutes from ordering to getting your food, what is the likelihood that you have \n",
    "# at least 15 minutes left to eat your food before you have to go back to class? Assume you have one hour for \n",
    "# lunch, and ignore travel time to and from La Panaderia.\n",
    "\n",
    "# Given parameters\n",
    "mean_X = 15\n",
    "std_dev_X = 3\n",
    "time_to_order_per_person = 2\n",
    "time_to_get_food = 10\n",
    "lunch_break_minutes = 60\n",
    "\n",
    "# Calculate mean and standard deviation for total time\n",
    "mean_T = 2 * mean_X + time_to_get_food\n",
    "std_dev_T = 2 * std_dev_X\n",
    "\n",
    "# Calculate the probability of having at least 15 minutes left to eat\n",
    "time_remaining = lunch_break_minutes - time_to_get_food\n",
    "prob_at_least_15_minutes = 1 - norm.cdf(time_remaining, loc=mean_T, scale=std_dev_T)\n",
    "\n",
    "# Display the result\n",
    "print(f\"The probability of having at least 15 minutes left to eat is approximately: {prob_at_least_15_minutes:.4f}\")\n"
   ]
  },
  {
   "cell_type": "code",
   "execution_count": 60,
   "id": "13684e40-e0e4-4026-bf54-d73f716f3898",
   "metadata": {
    "tags": []
   },
   "outputs": [
    {
     "data": {
      "text/plain": [
       "0.6914624612740131"
      ]
     },
     "execution_count": 60,
     "metadata": {},
     "output_type": "execute_result"
    }
   ],
   "source": [
    "#avg num of people in line: 15\n",
    "# stddev of 3\n",
    "# two mins for each person to order\n",
    "# 10 mins from ordering to get foods\n",
    "#negligible commute time\n",
    "# what are the odds that we have 15 mins left to eat?\n",
    "\n",
    "#convert people into minutes of time they take from lunch hour:\n",
    "# we want to know how much time we have so lets think about those people in terms of time\n",
    "μ= 15*2\n",
    "σ = 3*2\n",
    "line_dist = stats.norm(μ,σ)\n",
    "# time for lunch\n",
    "# it'll take me 2 mins to order, just like everyone else and 15 mins to eat and 10 mins to get my food\n",
    "60-(15 + 10 + 2)\n",
    "line_dist.cdf(33)\n",
    "# we want the prob of the line taking 33 mins or less after all the constant factors that we subtracted"
   ]
  },
  {
   "cell_type": "code",
   "execution_count": null,
   "id": "0a780d61-96ad-4a76-b47d-57da65a15f6b",
   "metadata": {},
   "outputs": [],
   "source": [
    "# Connect to the employees database and find the average salary of current employees, along with the standard \n",
    "# deviation. For the following questions, calculate the answer based on modeling the employees salaries with a \n",
    "# normal distribution defined by the calculated mean and standard deviation then compare this answer to the \n",
    "# actual values present in the salaries dataset.\n",
    "\n",
    "# What percent of employees earn less than 60,000?\n",
    "# What percent of employees earn more than 95,000?\n",
    "# What percent of employees earn between 65,000 and 80,000?\n",
    "# What do the top 5% of employees make?\n"
   ]
  },
  {
   "cell_type": "code",
   "execution_count": 77,
   "id": "fdfccc0e-ae2b-4411-bbc7-d5ae96e9c2fd",
   "metadata": {
    "tags": []
   },
   "outputs": [
    {
     "ename": "NameError",
     "evalue": "name 'env' is not defined",
     "output_type": "error",
     "traceback": [
      "\u001b[0;31m---------------------------------------------------------------------------\u001b[0m",
      "\u001b[0;31mNameError\u001b[0m                                 Traceback (most recent call last)",
      "Cell \u001b[0;32mIn[77], line 1\u001b[0m\n\u001b[0;32m----> 1\u001b[0m \u001b[38;5;28;01mfrom\u001b[39;00m \u001b[38;5;21;01menv\u001b[39;00m \u001b[38;5;28;01mimport\u001b[39;00m user, password, host\n",
      "File \u001b[0;32m~/codeup-data-science/Codeup-data-science/stats/env.py:5\u001b[0m\n\u001b[1;32m      2\u001b[0m password \u001b[38;5;241m=\u001b[39m \u001b[38;5;124m'\u001b[39m\u001b[38;5;124mNEaRs4EW1KflzlBriavfHaieCVeMTADH\u001b[39m\u001b[38;5;124m'\u001b[39m\n\u001b[1;32m      3\u001b[0m host \u001b[38;5;241m=\u001b[39m \u001b[38;5;124m'\u001b[39m\u001b[38;5;124mdata.codeup.com\u001b[39m\u001b[38;5;124m'\u001b[39m\n\u001b[0;32m----> 5\u001b[0m \u001b[38;5;28;01mdef\u001b[39;00m \u001b[38;5;21mget_db_url\u001b[39m(db_name,user\u001b[38;5;241m=\u001b[39menv\u001b[38;5;241m.\u001b[39muser,password\u001b[38;5;241m=\u001b[39menv\u001b[38;5;241m.\u001b[39mpassword,host\u001b[38;5;241m=\u001b[39menv\u001b[38;5;241m.\u001b[39mhost):\n\u001b[1;32m      6\u001b[0m \u001b[38;5;250m    \u001b[39m\u001b[38;5;124;03m\"\"\"\u001b[39;00m\n\u001b[1;32m      7\u001b[0m \u001b[38;5;124;03m    At least needs you to supply a database name (db_name)\u001b[39;00m\n\u001b[1;32m      8\u001b[0m \n\u001b[1;32m      9\u001b[0m \u001b[38;5;124;03m    Depends on env\u001b[39;00m\n\u001b[1;32m     10\u001b[0m \u001b[38;5;124;03m    \"\"\"\u001b[39;00m\n\u001b[1;32m     11\u001b[0m     \u001b[38;5;28;01mreturn\u001b[39;00m \u001b[38;5;124mf\u001b[39m\u001b[38;5;124m'\u001b[39m\u001b[38;5;124mmysql+pymysql://\u001b[39m\u001b[38;5;132;01m{\u001b[39;00muser\u001b[38;5;132;01m}\u001b[39;00m\u001b[38;5;124m:\u001b[39m\u001b[38;5;132;01m{\u001b[39;00mpassword\u001b[38;5;132;01m}\u001b[39;00m\u001b[38;5;124m@\u001b[39m\u001b[38;5;132;01m{\u001b[39;00mhost\u001b[38;5;132;01m}\u001b[39;00m\u001b[38;5;124m/\u001b[39m\u001b[38;5;132;01m{\u001b[39;00mdb_name\u001b[38;5;132;01m}\u001b[39;00m\u001b[38;5;124m'\u001b[39m\n",
      "\u001b[0;31mNameError\u001b[0m: name 'env' is not defined"
     ]
    }
   ],
   "source": [
    "from env import user, password, host"
   ]
  },
  {
   "cell_type": "code",
   "execution_count": 75,
   "id": "51e92b77-469f-40d0-b4fc-b01d24b674cb",
   "metadata": {},
   "outputs": [],
   "source": [
    "query = '''\n",
    "SELECT * FROM salaries s WHERE s.to_date > NOW()\n",
    "'''"
   ]
  },
  {
   "cell_type": "code",
   "execution_count": 73,
   "id": "275ec153-7f40-4f4d-9060-5d6b605fa12d",
   "metadata": {},
   "outputs": [],
   "source": [
    "import pandas as pd"
   ]
  },
  {
   "cell_type": "code",
   "execution_count": 76,
   "id": "fa0d143b-2a81-4e3b-986e-9f4d5eeac3c8",
   "metadata": {},
   "outputs": [
    {
     "ename": "NameError",
     "evalue": "name 'connection' is not defined",
     "output_type": "error",
     "traceback": [
      "\u001b[0;31m---------------------------------------------------------------------------\u001b[0m",
      "\u001b[0;31mNameError\u001b[0m                                 Traceback (most recent call last)",
      "Cell \u001b[0;32mIn[76], line 1\u001b[0m\n\u001b[0;32m----> 1\u001b[0m df \u001b[38;5;241m=\u001b[39m pd\u001b[38;5;241m.\u001b[39mread_sql(query, connection)\n",
      "\u001b[0;31mNameError\u001b[0m: name 'connection' is not defined"
     ]
    }
   ],
   "source": [
    "df = pd.read_sql(query, connection)"
   ]
  },
  {
   "cell_type": "code",
   "execution_count": null,
   "id": "d9832ac0-e86a-4efc-b67a-6c327652fe0e",
   "metadata": {},
   "outputs": [],
   "source": [
    "sal_stats = df.salary.agg(['mean','std'])\n",
    "#grabbing std and mean from the salaries database"
   ]
  },
  {
   "cell_type": "code",
   "execution_count": null,
   "id": "69a08ace-7aa1-4329-af30-1ca5809ce7bf",
   "metadata": {},
   "outputs": [],
   "source": [
    "sal_stats.values"
   ]
  },
  {
   "cell_type": "code",
   "execution_count": null,
   "id": "64e0e5d3-6f2e-4943-911b-47297550e3c4",
   "metadata": {},
   "outputs": [],
   "source": [
    "salary_dist = stats.norm(*sal_stats.values)"
   ]
  },
  {
   "cell_type": "code",
   "execution_count": null,
   "id": "6c9f495f-c384-432e-8fa7-58fa4c4d9bb5",
   "metadata": {},
   "outputs": [],
   "source": [
    "#prob of being less than 60K?\n",
    "salary_dist.cdf(60_000)"
   ]
  },
  {
   "cell_type": "code",
   "execution_count": null,
   "id": "88a52338-70b0-4bc5-a6c8-0cddcfd8c9f3",
   "metadata": {},
   "outputs": [],
   "source": [
    "#prob of earning more than 95k?\n",
    "round(salary_dist.sf(95_000),2)"
   ]
  },
  {
   "cell_type": "code",
   "execution_count": null,
   "id": "e9115714-2f9d-40e6-b06c-8c85180a16e4",
   "metadata": {},
   "outputs": [],
   "source": [
    "#what percent earn btw 65k and 80k?\n",
    "high_sal, low_sal = salary_dist.cdf([80_000,65_000])\n",
    "salary_bracket = high_sal - low_sal\n",
    "round(salary_bracket, 2)"
   ]
  },
  {
   "cell_type": "code",
   "execution_count": null,
   "id": "9b1ab8f3-9876-4019-aca4-532a7aaea57e",
   "metadata": {},
   "outputs": [],
   "source": [
    "#what do the top 5% earn?\n",
    "# 0.05  from the top, have prob, looking for a value: use .isf\n",
    "salary_dist.isf(0.05)"
   ]
  },
  {
   "cell_type": "code",
   "execution_count": null,
   "id": "8c6a956e-0b57-4b46-8d23-be73b5160f6f",
   "metadata": {},
   "outputs": [],
   "source": [
    "salary_dist.ppf(0.95) #will be the same just the other angle"
   ]
  },
  {
   "cell_type": "code",
   "execution_count": 28,
   "id": "94901312-e009-45fb-abe5-cd0433639f66",
   "metadata": {
    "tags": []
   },
   "outputs": [
    {
     "data": {
      "text/plain": [
       "13631.879749306481"
      ]
     },
     "execution_count": 28,
     "metadata": {},
     "output_type": "execute_result"
    }
   ],
   "source": [
    "# Suppose that a store's daily sales are normally distributed with a mean of 12,000 dollars and standard \n",
    "# deviation of 2000 dollars. How much would the daily sales have to be to be in the top 10% of all days?\n",
    "μ = 12_000\n",
    "std_dev = 2000\n",
    "# Function to calculate percentile from z-score\n",
    "def percentile_from_z_score(z_score):\n",
    "    return stats.norm.cdf(z_score)\n",
    "\n",
    "# Function to calculate z-score from percentile\n",
    "def z_score_from_percentile(percentile):\n",
    "    return stats.norm.ppf(percentile)\n",
    "top10 = percentile_from_z_score(.90) *std_dev + μ\n",
    "top10"
   ]
  },
  {
   "cell_type": "code",
   "execution_count": 30,
   "id": "01d17fdb-ee1e-493f-a0e4-1908359c5e98",
   "metadata": {
    "tags": []
   },
   "outputs": [
    {
     "name": "stdout",
     "output_type": "stream",
     "text": [
      "$14,563.10\n"
     ]
    }
   ],
   "source": [
    "μ = 12000\n",
    "σ = 2000\n",
    "\n",
    "sales = stats.norm(μ, σ)\n",
    "\n",
    "top_10_percent_cutoff = sales.ppf(.9)\n",
    "\n",
    "print('${:,.2f}'.format(top_10_percent_cutoff))"
   ]
  },
  {
   "cell_type": "code",
   "execution_count": 21,
   "id": "9b215c54-327c-4fe6-a46e-93b8e46b92d1",
   "metadata": {
    "tags": []
   },
   "outputs": [
    {
     "data": {
      "text/plain": [
       "9.536743164062493e-07"
      ]
     },
     "execution_count": 21,
     "metadata": {},
     "output_type": "execute_result"
    }
   ],
   "source": [
    "stats.binom(10,0.75).pmf(0)"
   ]
  },
  {
   "cell_type": "code",
   "execution_count": 26,
   "id": "77870499-7350-4287-bbc7-817f6c40cea3",
   "metadata": {
    "tags": []
   },
   "outputs": [
    {
     "data": {
      "text/plain": [
       "0.05958214776873284"
      ]
     },
     "execution_count": 26,
     "metadata": {},
     "output_type": "execute_result"
    }
   ],
   "source": [
    "stats.binom(20, .05).pmf(3)"
   ]
  }
 ],
 "metadata": {
  "kernelspec": {
   "display_name": "Python 3 (ipykernel)",
   "language": "python",
   "name": "python3"
  },
  "language_info": {
   "codemirror_mode": {
    "name": "ipython",
    "version": 3
   },
   "file_extension": ".py",
   "mimetype": "text/x-python",
   "name": "python",
   "nbconvert_exporter": "python",
   "pygments_lexer": "ipython3",
   "version": "3.11.5"
  }
 },
 "nbformat": 4,
 "nbformat_minor": 5
}
