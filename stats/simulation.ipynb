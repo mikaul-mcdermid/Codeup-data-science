{
 "cells": [
  {
   "cell_type": "markdown",
   "id": "6815cc93-1e71-4d47-b127-e8eac1085018",
   "metadata": {},
   "source": [
    "Exercises\n",
    "\n",
    "Using the repo setup directions, setup a new local and remote repository named statistics-exercises. The local version of your repo should live inside of ~/codeup-data-science. This repo should be named statistics-exercises\n",
    "\n",
    "Do your work for this exercise in either a python file named simulation.py or a jupyter notebook named simulation.ipynb.\n",
    "\n",
    "How likely is it that you roll doubles when rolling two dice?\n",
    "\n",
    "If you flip 8 coins, what is the probability of getting exactly 3 heads? What is the probability of getting more than 3 heads?\n",
    "\n",
    "There are approximitely 3 web development cohorts for every 1 data science cohort at Codeup. Assuming that Codeup randomly selects an alumni to put on a billboard, what are the odds that the two billboards I drive past both have data science students on them?\n",
    "\n",
    "Codeup students buy, on average, 3 poptart packages with a standard deviation of 1.5 a day from the snack vending machine. If on monday the machine is restocked with 17 poptart packages, how likely is it that I will be able to buy some poptarts on Friday afternoon? (Remember, if you have mean and standard deviation, use the np.random.normal) You'll need to make a judgement call on how to handle some of your values\n",
    "\n",
    "Compare Heights\n",
    "\n",
    "Men have an average height of 178 cm and standard deviation of 8cm.\n",
    "Women have a mean of 170, sd = 6cm.\n",
    "Since you have means and standard deviations, you can use np.random.normal to generate observations.\n",
    "If a man and woman are chosen at random, what is the likelihood the woman is taller than the man?\n",
    "When installing anaconda on a student's computer, there's a 1 in 250 chance that the download is corrupted and the installation fails. What are the odds that after having 50 students download anaconda, no one has an installation issue? 100 students?\n",
    "\n",
    "What is the probability that we observe an installation issue within the first 150 students that download anaconda?\n",
    "\n",
    "How likely is it that 450 students all download anaconda without an issue?\n",
    "\n",
    "There's a 70% chance on any given day that there will be at least one food truck at Travis Park. However, you haven't seen a food truck there in 3 days. How unlikely is this?\n",
    "\n",
    "How likely is it that a food truck will show up sometime this week?\n",
    "\n",
    "If 23 people are in the same room, what are the odds that two of them share a birthday? What if it's 20 people? 40?"
   ]
  },
  {
   "cell_type": "code",
   "execution_count": 223,
   "id": "2cc94b73-2629-4f21-80c8-2ca2207da1e0",
   "metadata": {
    "tags": []
   },
   "outputs": [],
   "source": [
    "import numpy as np\n",
    "import pandas as pd\n",
    "import matplotlib.pyplot as plt\n",
    "import scipy.stats as stats\n",
    "from scipy.stats import poisson\n",
    "from scipy.stats import binom\n",
    "from scipy.stats import norm\n",
    "import random"
   ]
  },
  {
   "cell_type": "code",
   "execution_count": 10,
   "id": "ae965e13-df60-409c-b1fc-f18853743ebf",
   "metadata": {
    "tags": []
   },
   "outputs": [
    {
     "name": "stdout",
     "output_type": "stream",
     "text": [
      "The probability of rolling doubles is approximately: 0.1675\n"
     ]
    }
   ],
   "source": [
    "# How likely is it that you roll doubles when rolling two dice?\n",
    "\n",
    "def rolls_to_get_doubles():\n",
    "    rolls = np.random.choice(np.arange(1, 7), size=2)  # Simulate rolling two dice\n",
    "    return rolls[0] == rolls[1]  # Check if both rolls are the same (doubles)\n",
    "\n",
    "num_trials = 10_000  # Number of trials to simulate\n",
    "\n",
    "# Simulate rolling two dice many times and count the number of times doubles occur\n",
    "num_doubles = sum(rolls_to_get_doubles() for _ in range(num_trials))\n",
    "\n",
    "# Calculate the probability of rolling doubles\n",
    "probability_of_doubles = num_doubles / num_trials\n",
    "\n",
    "print(f\"The probability of rolling doubles is approximately: {probability_of_doubles:.4f}\")\n"
   ]
  },
  {
   "cell_type": "code",
   "execution_count": 15,
   "id": "e74a739e-6f7f-438b-93a7-e2e7a97b0457",
   "metadata": {
    "tags": []
   },
   "outputs": [
    {
     "name": "stdout",
     "output_type": "stream",
     "text": [
      "0.223\n",
      "0.6295\n"
     ]
    }
   ],
   "source": [
    "# If you flip 8 coins, what is the probability of getting exactly 3 heads? \n",
    "# What is the probability of getting more than 3 heads?\n",
    "outcomes = ['H', 'T']\n",
    "n_trials = 8\n",
    "n_sims = 10_000\n",
    "eight_flips = np.random.choice(outcomes, (n_sims, n_trials))\n",
    "eight_flips\n",
    "exactly_3Hs = ((eight_flips == 'H').sum(axis=1) == 3).mean()\n",
    "more_than3Hs = ((eight_flips == 'H').sum(axis=1) > 3).mean()\n",
    "print(exactly_3Hs)\n",
    "print(more_than3Hs)"
   ]
  },
  {
   "cell_type": "code",
   "execution_count": 31,
   "id": "8153c017-1efd-4cbd-815f-77b80a792ebe",
   "metadata": {
    "tags": []
   },
   "outputs": [
    {
     "name": "stdout",
     "output_type": "stream",
     "text": [
      "0.2521\n"
     ]
    }
   ],
   "source": [
    "# There are approximitely 3 web development cohorts for every 1 data science cohort at Codeup. Assuming that \n",
    "# Codeup randomly selects an alumni to put on a billboard, what are the odds that the two billboards I drive \n",
    "# past both have data science students on them?\n",
    "outcomes = ['DS', 'WD']\n",
    "n_trials = 2\n",
    "n_sims = 10_000\n",
    "two_billboards = np.random.choice(outcomes, (n_sims, n_trials))\n",
    "both_DS = (np.sum(two_billboards == 'DS', axis=1) == 2).mean()\n",
    "print(both_DS)"
   ]
  },
  {
   "cell_type": "code",
   "execution_count": 82,
   "id": "2e458750-f3e5-40a6-96ad-2666b14c4645",
   "metadata": {
    "tags": []
   },
   "outputs": [
    {
     "data": {
      "text/plain": [
       "3.2401655518543677"
      ]
     },
     "execution_count": 82,
     "metadata": {},
     "output_type": "execute_result"
    }
   ],
   "source": [
    "# Codeup students buy, on average, 3 poptart packages with a standard deviation of 1.5 a day from the snack \n",
    "# vending machine. If on monday the machine is restocked with 17 poptart packages, how likely is it that I will \n",
    "# be able to buy some poptarts on Friday afternoon? (Remember, if you have mean and standard deviation, use the \n",
    "# np.random.normal) You'll need to make a judgement call on how to handle some of your values\n",
    "μ = 3\n",
    "σ = 1.5\n",
    "poptarts = 17\n",
    "days_left = 4\n",
    "total_sold = np.random.normal(loc=μ, scale=σ, size = days_left).sum()\n",
    "remaining_poptarts = poptarts - total_sold\n",
    "fridaypoptarts = remaining_poptarts\n",
    "fridaypoptarts"
   ]
  },
  {
   "cell_type": "code",
   "execution_count": 32,
   "id": "e27edf21-8a73-4f11-b825-52cb2165fae8",
   "metadata": {
    "tags": []
   },
   "outputs": [
    {
     "name": "stdout",
     "output_type": "stream",
     "text": [
      "Likelihood of being able to buy poptarts on Friday afternoon: True\n"
     ]
    }
   ],
   "source": [
    "import numpy as np\n",
    "from scipy import stats\n",
    "\n",
    "# Given data\n",
    "μ = 3\n",
    "σ = 1.5\n",
    "initial_stock = 17\n",
    "\n",
    "# Calculate the total number of poptarts sold from Monday to Thursday\n",
    "days_left = 4  # Including Friday\n",
    "total_sold = np.random.normal(loc=μ, scale=σ, size=days_left).sum()\n",
    "\n",
    "# Calculate the remaining poptarts available on Friday\n",
    "remaining_poptarts = initial_stock - total_sold\n",
    "\n",
    "# Check if there are poptarts available on Friday afternoon\n",
    "poptarts_available = remaining_poptarts > 0\n",
    "\n",
    "print(f\"Likelihood of being able to buy poptarts on Friday afternoon: {poptarts_available}\")\n"
   ]
  },
  {
   "cell_type": "code",
   "execution_count": 109,
   "id": "2425e5b2-65b5-4939-97be-b88565d8c440",
   "metadata": {
    "tags": []
   },
   "outputs": [
    {
     "data": {
      "text/plain": [
       "0.2062"
      ]
     },
     "execution_count": 109,
     "metadata": {},
     "output_type": "execute_result"
    }
   ],
   "source": [
    "# Compare Heights\n",
    "\n",
    "# Men have an average height of 178 cm and standard deviation of 8cm.\n",
    "# Women have a mean of 170, sd = 6cm.\n",
    "# Since you have means and standard deviations, you can use np.random.normal to generate observations.\n",
    "# If a man and woman are chosen at random, what is the likelihood the woman is taller than the man?\n",
    "μmale = 178\n",
    "σmale = 8\n",
    "μfemale = 170\n",
    "σfemale = 6\n",
    "# num_trials = 10_000\n",
    "male_height = np.random.normal(loc=μmale, scale = σmale, size = 10_000)\n",
    "female_height = np.random.normal(loc=μfemale, scale = σfemale, size = 10_000)\n",
    "taller_woman = np.sum(female_height > male_height)\n",
    "taller_woman / 10_000"
   ]
  },
  {
   "cell_type": "code",
   "execution_count": 208,
   "id": "aaac0807-c038-414e-8174-55442b5e4e0a",
   "metadata": {
    "tags": []
   },
   "outputs": [
    {
     "name": "stdout",
     "output_type": "stream",
     "text": [
      "0.8254 0.6726 0.5485 0.1657\n"
     ]
    }
   ],
   "source": [
    "# When installing anaconda on a student's computer, there's a 1 in 250 chance that the download is corrupted and\n",
    "# the installation fails. What are the odds that after having 50 students download anaconda, no one has an \n",
    "# installation issue? 100 students?\n",
    "\n",
    "# What is the probability that we observe an installation issue within the first 150 students that download \n",
    "# anaconda?\n",
    "\n",
    "# How likely is it that 450 students all download anaconda without an issue?\n",
    "anaconda_fail = 1/250\n",
    "n_trials50 = 50\n",
    "n_trials100 = 100\n",
    "n_trials150 = 150\n",
    "n_trials450 = 450\n",
    "n_sims = 10_000\n",
    "anacondafailsims50 = np.random.random((n_sims, n_trials50)) > anaconda_fail\n",
    "anacondafailsims100 = np.random.random((n_sims, n_trials100)) > anaconda_fail\n",
    "anacondafailsims150 = np.random.random((n_sims, n_trials150)) > anaconda_fail\n",
    "anacondafailsims450 = np.random.random((n_sims, n_trials450)) > anaconda_fail\n",
    "failed_install50 = (anacondafailsims50.sum(axis=1) == 50).mean()\n",
    "failed_install100 = (anacondafailsims100.sum(axis=1) == 100).mean()\n",
    "failed_install150 = (anacondafailsims150.sum(axis=1) == 150).mean()\n",
    "failed_install450 = (anacondafailsims450.sum(axis=1) == 450).mean()\n",
    "print(failed_install50, failed_install100, failed_install150, failed_install450)"
   ]
  },
  {
   "cell_type": "code",
   "execution_count": 132,
   "id": "6be69514-8f00-430d-a957-e6b7037d7dc0",
   "metadata": {
    "tags": []
   },
   "outputs": [
    {
     "name": "stdout",
     "output_type": "stream",
     "text": [
      "0.0281\n",
      "0.9993\n"
     ]
    }
   ],
   "source": [
    "# There's a 70% chance on any given day that there will be at least one food truck at Travis Park. However, you \n",
    "# haven't seen a food truck there in 3 days. How unlikely is this?\n",
    "\n",
    "# How likely is it that a food truck will show up sometime this week?\n",
    "food_truck = 0.7\n",
    "n_trials = 1\n",
    "days_passed = 3\n",
    "n_sims = 10_000\n",
    "nofoodtruck3days = np.random.random((n_sims, 3)) > food_truck\n",
    "prob_nofood_truck3days = (nofoodtruck3days.sum(axis=1) ==3).mean()\n",
    "print(prob_nofood_truck3days)\n",
    "\n",
    "food_truck_week = np.random.random((n_sims, 7)) <= food_truck\n",
    "prob_food_truck = (food_truck_week.sum(axis=1) > 0).mean()\n",
    "print(prob_food_truck)"
   ]
  },
  {
   "cell_type": "code",
   "execution_count": null,
   "id": "c34c55c2-b184-4ae8-abb4-c4f56606f173",
   "metadata": {},
   "outputs": [],
   "source": []
  },
  {
   "cell_type": "code",
   "execution_count": 128,
   "id": "fcdd478c-bf99-4f8f-b9ec-0ec4bfc60bec",
   "metadata": {
    "tags": []
   },
   "outputs": [
    {
     "name": "stdout",
     "output_type": "stream",
     "text": [
      "Likelihood of no food truck in 3 days: 0.027700\n",
      "Probability of a food truck showing up sometime this week: 0.999800\n"
     ]
    }
   ],
   "source": [
    "import numpy as np\n",
    "\n",
    "# Probability of a food truck on any given day\n",
    "food_truck_prob = 0.7\n",
    "\n",
    "# Number of simulations\n",
    "n_sims = 10_000\n",
    "\n",
    "# Scenario 1: Likelihood of no food truck in 3 days\n",
    "no_food_truck_3_days = np.random.random((n_sims, 3)) > food_truck_prob\n",
    "prob_no_food_truck_3_days = (no_food_truck_3_days.sum(axis=1) == 3).mean()\n",
    "\n",
    "# Scenario 2: Probability of a food truck showing up sometime in a week\n",
    "food_truck_week = np.random.random((n_sims, 7)) <= food_truck_prob\n",
    "prob_food_truck_week = (food_truck_week.sum(axis=1) > 0).mean()\n",
    "\n",
    "print(f\"Likelihood of no food truck in 3 days: {prob_no_food_truck_3_days:.6f}\")\n",
    "print(f\"Probability of a food truck showing up sometime this week: {prob_food_truck_week:.6f}\")\n"
   ]
  },
  {
   "cell_type": "code",
   "execution_count": 151,
   "id": "853a70e6-3ee0-4828-9738-50828c27ebc7",
   "metadata": {
    "tags": []
   },
   "outputs": [
    {
     "name": "stdout",
     "output_type": "stream",
     "text": [
      "For 20 people, the probability of at least two sharing a birthday is 0.42\n",
      "For 23 people, the probability of at least two sharing a birthday is 0.51\n",
      "For 40 people, the probability of at least two sharing a birthday is 0.88\n"
     ]
    }
   ],
   "source": [
    "# If 23 people are in the same room, what are the odds that two of them share a birthday? \n",
    "# What if it's 20 people? 40?\n",
    "\n",
    "def has_shared_bday(group_size, n_sims):\n",
    "    shared_bday = 0\n",
    "    days_in_year = np.arange(1,366) #exclusive so you have to go past 365\n",
    "    for i in range(n_sims):\n",
    "        bdays = np.random.choice(days_in_year, size=group_size, replace=True)\n",
    "        if len(bdays) != len(set(bdays)): \n",
    "            shared_bday +=1\n",
    "    return shared_bday /n_sims\n",
    "\n",
    "group_size = [20,23,40]\n",
    "n_sims = 10_000\n",
    "\n",
    "for size in group_size:\n",
    "    prob_shared_bday = has_shared_bday(size, n_sims)\n",
    "    print(f'For {size} people, the probability of at least two sharing a birthday is {prob_shared_bday:.2f}')"
   ]
  },
  {
   "cell_type": "code",
   "execution_count": 135,
   "id": "8bb0d957-025b-4fa5-a7cb-5e04767f5948",
   "metadata": {
    "tags": []
   },
   "outputs": [
    {
     "name": "stdout",
     "output_type": "stream",
     "text": [
      "For 20 people, probability of at least two sharing a birthday: 0.4184\n",
      "For 23 people, probability of at least two sharing a birthday: 0.5008\n",
      "For 40 people, probability of at least two sharing a birthday: 0.8934\n"
     ]
    }
   ],
   "source": [
    "import numpy as np\n",
    "\n",
    "def has_shared_birthday(group_size, n_sims):\n",
    "    shared_birthday = 0\n",
    "    days_in_year = np.arange(1, 366)  # Representing days of the year\n",
    "    for _ in range(n_sims):\n",
    "        birthdays = np.random.choice(days_in_year, size=group_size, replace=True)\n",
    "        if len(birthdays) != len(set(birthdays)):  # Check for shared birthday\n",
    "            shared_birthday += 1\n",
    "    return shared_birthday / n_sims  # Probability of at least two sharing a birthday\n",
    "\n",
    "group_sizes = [20, 23, 40]\n",
    "n_sims = 10_000\n",
    "\n",
    "for size in group_sizes:\n",
    "    prob_shared_birthday = has_shared_birthday(size, n_sims)\n",
    "    print(f\"For {size} people, probability of at least two sharing a birthday: {prob_shared_birthday:.4f}\")\n"
   ]
  },
  {
   "cell_type": "code",
   "execution_count": 152,
   "id": "45ab8faa-2bbe-472e-a979-ff49f07c84ee",
   "metadata": {
    "tags": []
   },
   "outputs": [],
   "source": [
    "np.random.seed(123)\n",
    "n_trials = 100_000"
   ]
  },
  {
   "cell_type": "code",
   "execution_count": 159,
   "id": "2ad52703-fc1a-4c07-8ab7-38df39c8e94f",
   "metadata": {
    "tags": []
   },
   "outputs": [
    {
     "data": {
      "text/plain": [
       "0.16772"
      ]
     },
     "execution_count": 159,
     "metadata": {},
     "output_type": "execute_result"
    }
   ],
   "source": [
    "#set up\n",
    "outcomes = [1,2,3,4,5,6]\n",
    "n_dice = 2 \n",
    "#roll the die via simulations\n",
    "rolls = np.random.choice(outcomes, (n_trials, n_dice))\n",
    "rolls[:,0] #rows, columns\n",
    "rolls[:,1]\n",
    "rolls[:,0] == rolls[:,1] #diff ways to find equality\n",
    "rolls.T #way #2\n",
    "#find doubles\n",
    "doubles = rolls[:,0] == rolls[:,1]\n",
    "doubles.sum() /len(doubles)\n",
    "doubles.mean()"
   ]
  },
  {
   "cell_type": "code",
   "execution_count": 172,
   "id": "4327473b-9b9e-4e96-b57d-83e26d0e07e2",
   "metadata": {
    "tags": []
   },
   "outputs": [
    {
     "data": {
      "text/plain": [
       "0.63612"
      ]
     },
     "execution_count": 172,
     "metadata": {},
     "output_type": "execute_result"
    }
   ],
   "source": [
    "#set up\n",
    "outcomes = ['H', 'T']\n",
    "n_coins = 8\n",
    "flips = np.random.choice(outcomes, (n_trials, n_coins)) #save this to a variable to compare to 'h' values\n",
    "heads_per_sim = (flips == 'H').sum(axis=1)\n",
    "(heads_per_sim == 3).mean()\n",
    "(heads_per_sim >3).mean() "
   ]
  },
  {
   "cell_type": "code",
   "execution_count": 181,
   "id": "cb795df5-8ed0-4241-bb34-43c8e1f1348a",
   "metadata": {
    "tags": []
   },
   "outputs": [
    {
     "data": {
      "text/plain": [
       "0.06396"
      ]
     },
     "execution_count": 181,
     "metadata": {},
     "output_type": "execute_result"
    }
   ],
   "source": [
    "outcomes = ['DS', 'WD', 'WD', 'WD']\n",
    "n_billboards = 2\n",
    "billboards= np.random.choice(outcomes, (n_trials, n_billboards))\n",
    "ds_billboards = (billboards == 'DS').sum(axis=1)\n",
    "(ds_billboards == 2).mean()"
   ]
  },
  {
   "cell_type": "code",
   "execution_count": null,
   "id": "79b58229-a043-4bc8-98f6-f7139ead7eba",
   "metadata": {},
   "outputs": [],
   "source": [
    "billboards = np.random.choice (outcomes, (n_trials,n_billboards), p=[0.25,0.75]) #alt more programmatic way"
   ]
  },
  {
   "cell_type": "code",
   "execution_count": 194,
   "id": "11758994-d5d2-43f9-9e11-e32a8f1daf3e",
   "metadata": {
    "tags": []
   },
   "outputs": [
    {
     "data": {
      "text/plain": [
       "0.6132"
      ]
     },
     "execution_count": 194,
     "metadata": {},
     "output_type": "execute_result"
    }
   ],
   "source": [
    "μ = 3\n",
    "σ = 1.5\n",
    "poptarts = 17\n",
    "days = 5\n",
    "poptarts_purchased_daily = np.random.normal(loc=μ, scale=σ, size=(num_trials,days))\n",
    "weekly_poptarts = poptarts_purchased_daily.sum(axis=1)\n",
    "(poptarts - weekly_poptarts >=1).mean()"
   ]
  },
  {
   "cell_type": "code",
   "execution_count": 201,
   "id": "5cb3dbd4-e0c5-4f88-9da0-d4297a0c1dbe",
   "metadata": {
    "tags": []
   },
   "outputs": [
    {
     "data": {
      "text/plain": [
       "0.2144"
      ]
     },
     "execution_count": 201,
     "metadata": {},
     "output_type": "execute_result"
    }
   ],
   "source": [
    "μmale = 178\n",
    "σmale = 8\n",
    "μfemale = 170\n",
    "σfemale = 6\n",
    "# num_trials = 10_000\n",
    "male_height = np.random.normal(loc=μmale, scale = σmale, size = 10_000)\n",
    "female_height = np.random.normal(loc=μfemale, scale = σfemale, size = 10_000)\n",
    "taller_woman = np.sum(female_height > male_height)\n",
    "taller_woman / 10_000\n",
    "#(female_height > male_height).mean()"
   ]
  },
  {
   "cell_type": "code",
   "execution_count": 216,
   "id": "09f54f1f-0d82-47f6-83e2-fc518fd438df",
   "metadata": {
    "tags": []
   },
   "outputs": [
    {
     "name": "stdout",
     "output_type": "stream",
     "text": [
      "0.1643\n"
     ]
    }
   ],
   "source": [
    "outcomes = ['p','f']\n",
    "probs_outcomes = [249/250, 1/250] #pass rate vs fail rate\n",
    "n_students = (450)\n",
    "# n_students100=\n",
    "# n_students150=\n",
    "# n_students450=\n",
    "np.random.choice(outcomes, (num_trials, n_students), p= probs_outcomes)\n",
    "installs = np.random.choice(outcomes, (num_trials, n_students), p= probs_outcomes)\n",
    "total_fails = (installs == 'f').sum(axis=1)\n",
    "print((total_fails ==0).mean())"
   ]
  },
  {
   "cell_type": "code",
   "execution_count": 220,
   "id": "1413fe88-7d88-4a93-95c8-ccfe983d8c00",
   "metadata": {
    "tags": []
   },
   "outputs": [
    {
     "data": {
      "text/plain": [
       "0.02729"
      ]
     },
     "execution_count": 220,
     "metadata": {},
     "output_type": "execute_result"
    }
   ],
   "source": [
    "p_truck = 0.7\n",
    "n_days =3 \n",
    "is_truck = np.random.random((n_trials, n_days))\n",
    "yes_truck = is_truck < p_truck \n",
    "(yes_truck.sum(axis=1) == 0).mean()"
   ]
  },
  {
   "cell_type": "code",
   "execution_count": 237,
   "id": "9f6fb1d7-b983-433e-b44d-3e60767c4779",
   "metadata": {
    "tags": []
   },
   "outputs": [
    {
     "data": {
      "text/plain": [
       "0.4988"
      ]
     },
     "execution_count": 237,
     "metadata": {},
     "output_type": "execute_result"
    }
   ],
   "source": [
    "n_people = 23\n",
    "outcomes = list(range(1,366))\n",
    "days = np.random.choice(outcomes, (num_trials, n_people))\n",
    "borthdays = pd.DataFrame(days)\n",
    "borthdays.nunique(axis=1) \n",
    "borthdays.nunique(axis=1) < n_people\n",
    "(borthdays.nunique(axis=1) < n_people).mean()\n"
   ]
  }
 ],
 "metadata": {
  "kernelspec": {
   "display_name": "Python 3 (ipykernel)",
   "language": "python",
   "name": "python3"
  },
  "language_info": {
   "codemirror_mode": {
    "name": "ipython",
    "version": 3
   },
   "file_extension": ".py",
   "mimetype": "text/x-python",
   "name": "python",
   "nbconvert_exporter": "python",
   "pygments_lexer": "ipython3",
   "version": "3.11.5"
  }
 },
 "nbformat": 4,
 "nbformat_minor": 5
}
